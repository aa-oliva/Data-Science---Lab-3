{
  "nbformat": 4,
  "nbformat_minor": 0,
  "metadata": {
    "colab": {
      "name": "FinalLab4.ipynb",
      "version": "0.3.2",
      "provenance": [],
      "collapsed_sections": [],
      "toc_visible": true
    },
    "kernelspec": {
      "name": "python3",
      "display_name": "Python 3"
    },
    "accelerator": "GPU"
  },
  "cells": [
    {
      "metadata": {
        "id": "2txTKiNG5rOO",
        "colab_type": "text"
      },
      "cell_type": "markdown",
      "source": [
        "# Laboratorio 4\n",
        "\n",
        "---\n",
        "Se necesita tener acceso los archivos de google drive para poder usar este código, aqui esta el link de compartir: <br>[Google Drive](https://drive.google.com/drive/folders/1EGaVv-qekeA--pPsToN5DUZC868gv14k?usp=sharing) <br>\n",
        "\n",
        "--- \n",
        "Tabla de contenido\n",
        "\n",
        "\n",
        "*   Análisis Exploratorio\n",
        "*   something else\n",
        "\n"
      ]
    },
    {
      "metadata": {
        "id": "K3c7P_Q653Mv",
        "colab_type": "text"
      },
      "cell_type": "markdown",
      "source": [
        "## IMPORTACIONES"
      ]
    },
    {
      "metadata": {
        "id": "UaPgdtHR5YFx",
        "colab_type": "code",
        "colab": {
          "base_uri": "https://localhost:8080/",
          "height": 72
        },
        "outputId": "0ed89f03-28d5-4fda-a55b-295ee3f309d8"
      },
      "cell_type": "code",
      "source": [
        "import pandas as pd\n",
        "import numpy as np\n",
        "import tensorflow as tf\n",
        "from google.colab import files\n",
        "import matplotlib.pyplot as plt\n",
        "import re\n",
        "import io \n",
        "from nltk.corpus import stopwords \n",
        "from nltk.tokenize import word_tokenize\n",
        "from nltk import ngrams\n",
        "import heapq\n",
        "import operator\n",
        "# Load library\n",
        "from nltk.corpus import stopwords\n",
        "import os\n",
        "# You will have to download the set of stop words the first time\n",
        "import nltk\n",
        "nltk.download('stopwords')"
      ],
      "execution_count": 0,
      "outputs": [
        {
          "output_type": "stream",
          "text": [
            "[nltk_data] Downloading package stopwords to /root/nltk_data...\n",
            "[nltk_data]   Package stopwords is already up-to-date!\n"
          ],
          "name": "stdout"
        },
        {
          "output_type": "execute_result",
          "data": {
            "text/plain": [
              "True"
            ]
          },
          "metadata": {
            "tags": []
          },
          "execution_count": 23
        }
      ]
    },
    {
      "metadata": {
        "id": "DCSC0mOl9vvH",
        "colab_type": "text"
      },
      "cell_type": "markdown",
      "source": [
        "### Conexión a Google Drive"
      ]
    },
    {
      "metadata": {
        "id": "4lAzkrAN5kfu",
        "colab_type": "code",
        "colab": {}
      },
      "cell_type": "code",
      "source": [
        "!pip install -U -q PyDrive ## you will have install for every colab session\n",
        "from pydrive.auth import GoogleAuth\n",
        "from pydrive.drive import GoogleDrive\n",
        "from google.colab import auth\n",
        "from oauth2client.client import GoogleCredentials\n",
        "# 1. Authenticate and create the PyDrive client.\n",
        "auth.authenticate_user()\n",
        "gauth = GoogleAuth()\n",
        "gauth.credentials = GoogleCredentials.get_application_default()\n",
        "drive = GoogleDrive(gauth)"
      ],
      "execution_count": 0,
      "outputs": []
    },
    {
      "metadata": {
        "id": "nkNQs9zI5miN",
        "colab_type": "code",
        "colab": {
          "base_uri": "https://localhost:8080/",
          "height": 145
        },
        "outputId": "cc852d4d-b5c7-4370-968c-83e97f95c8b4"
      },
      "cell_type": "code",
      "source": [
        "file_list = drive.ListFile({'q': \"'1ki9mkoQzQUBeqcUIzud04eAglroryOA7' in parents and trashed=false\"}).GetList()\n",
        "for file1 in file_list:\n",
        "  print('title: %s, id: %s' % (file1['title'], file1['id']))"
      ],
      "execution_count": 0,
      "outputs": [
        {
          "output_type": "stream",
          "text": [
            "title: Lab4.Backup.ipynb, id: 1w67Smxb16A9R_uDD2mQWrAQH7FF5F5SA\n",
            "title: conjunctions.txt, id: 1ZbsphfT4RbCzgCaOqEhjZXTzl-eFu3rn\n",
            "title: prepositions, id: 1GF6NAgVhWjHV1EfRFNBygyMgmYWqGsuUyzy_WFZLl8I\n",
            "title: prepositions.txt, id: 1zlbTQdhuo2UKDB5V1B_VGfzbCqB5tQpC\n",
            "title: en_US.twitter.txt, id: 1-TOVJ4t54YYln8-odlTUxH_dSJTqs92s\n",
            "title: en_US.blogs.txt, id: 1W2rALeghgra2E6h8t9Pu9dqnFHkIX3lg\n",
            "title: en_US.news.txt, id: 1fUYXYLPfasmPrKfeB2sb3VjEQeay3Afe\n"
          ],
          "name": "stdout"
        }
      ]
    },
    {
      "metadata": {
        "id": "lMZh70nS57fb",
        "colab_type": "text"
      },
      "cell_type": "markdown",
      "source": [
        "### Descarga de los archivos\n",
        "se consiguen los archivos de google drive, y se van a utilizar los mimos nombres que tenían para llamarlos"
      ]
    },
    {
      "metadata": {
        "id": "t18wpRLw5pnL",
        "colab_type": "code",
        "colab": {}
      },
      "cell_type": "code",
      "source": [
        "enUSNews = drive.CreateFile({'id': '1fUYXYLPfasmPrKfeB2sb3VjEQeay3Afe'})\n",
        "enUSNews.GetContentFile('en_US.news.txt')\n"
      ],
      "execution_count": 0,
      "outputs": []
    },
    {
      "metadata": {
        "id": "ONBaDIBlBgCd",
        "colab_type": "code",
        "colab": {}
      },
      "cell_type": "code",
      "source": [
        "enUSBlogs = drive.CreateFile({'id':'1W2rALeghgra2E6h8t9Pu9dqnFHkIX3lg'})\n",
        "enUSBlogs.GetContentFile('en_US.blogs.txt')"
      ],
      "execution_count": 0,
      "outputs": []
    },
    {
      "metadata": {
        "id": "tEa4PHU0Ah4I",
        "colab_type": "code",
        "colab": {}
      },
      "cell_type": "code",
      "source": [
        "enUSTwitter = drive.CreateFile({'id':'1-TOVJ4t54YYln8-odlTUxH_dSJTqs92s'})\n",
        "enUSTwitter.GetContentFile('en_US.twitter.txt')"
      ],
      "execution_count": 0,
      "outputs": []
    },
    {
      "metadata": {
        "id": "WB6BMnPqGyHh",
        "colab_type": "code",
        "colab": {}
      },
      "cell_type": "code",
      "source": [
        "preposiciones = drive.CreateFile({'id': '1zlbTQdhuo2UKDB5V1B_VGfzbCqB5tQpC'})\n",
        "preposiciones.GetContentFile('prepositions.txt')"
      ],
      "execution_count": 0,
      "outputs": []
    },
    {
      "metadata": {
        "id": "QqiJJKrEQ88R",
        "colab_type": "code",
        "colab": {}
      },
      "cell_type": "code",
      "source": [
        "conjunctions = drive.CreateFile({'id': '1ZbsphfT4RbCzgCaOqEhjZXTzl-eFu3rn'})\n",
        "conjunctions.GetContentFile('conjunctions.txt')"
      ],
      "execution_count": 0,
      "outputs": []
    },
    {
      "metadata": {
        "id": "NZJEL7dtgkgy",
        "colab_type": "code",
        "colab": {}
      },
      "cell_type": "code",
      "source": [
        "def file_len(fname):\n",
        "    with open(fname) as f:\n",
        "        for i, l in enumerate(f):\n",
        "            pass\n",
        "    return i + 1"
      ],
      "execution_count": 0,
      "outputs": []
    },
    {
      "metadata": {
        "id": "3SMzIxcPhXAK",
        "colab_type": "text"
      },
      "cell_type": "markdown",
      "source": [
        "### Cantidad de lineas en los archivos"
      ]
    },
    {
      "metadata": {
        "id": "qPMtSnxqguAl",
        "colab_type": "code",
        "colab": {}
      },
      "cell_type": "code",
      "source": [
        "lineasNews = file_len('en_US.news.txt')\n",
        "lineasBlogs = file_len('en_US.blogs.txt')\n",
        "lineasTwitter = file_len('en_US.twitter.txt')"
      ],
      "execution_count": 0,
      "outputs": []
    },
    {
      "metadata": {
        "id": "SyyK_-Ddhs1T",
        "colab_type": "text"
      },
      "cell_type": "markdown",
      "source": [
        "### 5% de esas lineas"
      ]
    },
    {
      "metadata": {
        "id": "WOvV9ygEhpvc",
        "colab_type": "code",
        "colab": {}
      },
      "cell_type": "code",
      "source": [
        "def reducirTexto(file, lineas):\n",
        "  lineas = int(round(lineas * 0.05))\n",
        "  with open(file) as myfile:\n",
        "      head = [next(myfile) for x in range(lineas)]\n",
        "  return head"
      ],
      "execution_count": 0,
      "outputs": []
    },
    {
      "metadata": {
        "id": "VSWEjtCrjwZI",
        "colab_type": "code",
        "colab": {}
      },
      "cell_type": "code",
      "source": [
        "def mkdir(name, data):\n",
        "  f = open(name, 'w')\n",
        "  f.write(str(data))\n",
        "  f.close()"
      ],
      "execution_count": 0,
      "outputs": []
    },
    {
      "metadata": {
        "id": "juRwQvIa9dkl",
        "colab_type": "code",
        "colab": {}
      },
      "cell_type": "code",
      "source": [
        "def openF(filename):\n",
        "  file = open(filename, 'r')\n",
        "  return file.read()"
      ],
      "execution_count": 0,
      "outputs": []
    },
    {
      "metadata": {
        "id": "AMBzMkMWiB_S",
        "colab_type": "code",
        "colab": {}
      },
      "cell_type": "code",
      "source": [
        "reduccion5porciento = reducirTexto('en_US.news.txt', lineasNews)\n",
        "mkdir(\"en_US.news.txt\", reduccion5porciento)\n",
        "reduccion5porciento = reducirTexto('en_US.blogs.txt', lineasBlogs)\n",
        "mkdir(\"en_US.blogs.txt\", reduccion5porciento)\n",
        "reduccion5porciento = reducirTexto('en_US.twitter.txt', lineasTwitter)\n",
        "mkdir(\"en_US.twitter.txt\", reduccion5porciento)"
      ],
      "execution_count": 0,
      "outputs": []
    },
    {
      "metadata": {
        "id": "tyTdYO1Q-_ig",
        "colab_type": "text"
      },
      "cell_type": "markdown",
      "source": [
        "## Limpieza de datos (remover @,# y apostrofes)"
      ]
    },
    {
      "metadata": {
        "id": "zegUWIAkFVaM",
        "colab_type": "text"
      },
      "cell_type": "markdown",
      "source": [
        "- Revisar si hay emoticones y quitarlos\n",
        "- Quitar los artículos, preposiciones y conjunciones (stopwords)\n",
        "- Quitar números si considera que interferirán en las predicciones.\n",
        "- Se van a eliminar los emojis, leyendolos por hex y identificando los que estan llamando a emojis\n",
        "- Quitar los stopwords utilizando NLKT\n",
        "- Se van a guardar los archivos limpios en:\n",
        "    * news.txt\n",
        "    *  blogs.txt\n",
        "    * twitter.txt\n",
        "\n",
        " "
      ]
    },
    {
      "metadata": {
        "id": "zjdXmzLu39iS",
        "colab_type": "code",
        "colab": {}
      },
      "cell_type": "code",
      "source": [
        "def lowerYsub(filename, fileout):\n",
        "  with open(filename, 'r') as infile, \\\n",
        "       open(fileout, 'w') as outfile:\n",
        "      data = infile.read()\n",
        "      data = data.lower()\n",
        "     \n",
        "      # Eliminar simbolos\n",
        "      data = re.sub(\"@\", \"\", data)\n",
        "      data = re.sub(\"#\", \"\", data)\n",
        "      data = re.sub(\"&\", \"\", data)\n",
        "      data = re.sub('\\\"','', data)      \n",
        "      data = re.sub(\"'\",'', data)\n",
        "      data = re.sub(\" n, \",'', data)\n",
        "      data = re.sub(\" n \",'', data)\n",
        "      data = re.sub(\" s \",'', data)\n",
        "      data = re.sub('\\,',' ', data)\n",
        "      data = re.sub('\\.',' ', data)\n",
        "      \n",
        "      #Eliminar enlaces\n",
        "      data = re.sub(r'\\bhttp\\S+', '', data, re.IGNORECASE)\n",
        "      \n",
        "      # Eliminar Articulos\n",
        "      data = data.replace(' a ', ' ')\n",
        "      data = data.replace(\" n \",' ')\n",
        "      data = data.replace(\" s \",' ')\n",
        "      data = data.replace(\" an \", \" \")\n",
        "      data = data.replace(\" the \", \" \")\n",
        "      data = data.replace(\" and \", \" \")\n",
        "      data = data.replace(\"\\n\", \" \")\n",
        "      data = data.replace(\"\\\\\", \" \")\n",
        "      data = data.replace(\".\", \" \")\n",
        "\n",
        "      \n",
        "      outfile.write(data)\n",
        "      print (\"Success\")"
      ],
      "execution_count": 0,
      "outputs": []
    },
    {
      "metadata": {
        "id": "oTicXgcp4Whu",
        "colab_type": "code",
        "colab": {
          "base_uri": "https://localhost:8080/",
          "height": 72
        },
        "outputId": "b6d6f783-e057-4604-edb6-2f48e0481d2e"
      },
      "cell_type": "code",
      "source": [
        "lowerYsub('en_US.news.txt','news.txt')\n",
        "lowerYsub('en_US.blogs.txt','blogs.txt')\n",
        "lowerYsub('en_US.twitter.txt','twitter.txt')"
      ],
      "execution_count": 0,
      "outputs": [
        {
          "output_type": "stream",
          "text": [
            "Success\n",
            "Success\n",
            "Success\n"
          ],
          "name": "stdout"
        }
      ]
    },
    {
      "metadata": {
        "id": "LWQqP7wevtvZ",
        "colab_type": "text"
      },
      "cell_type": "markdown",
      "source": [
        "##Quitando Emojis\n"
      ]
    },
    {
      "metadata": {
        "id": "OxFq6QJ9vwEH",
        "colab_type": "code",
        "colab": {}
      },
      "cell_type": "code",
      "source": [
        "from codecs import open\n",
        "try:\n",
        "    from contextlib import nested  # Python 2\n",
        "except ImportError:\n",
        "    from contextlib import ExitStack, contextmanager\n",
        "\n",
        "    @contextmanager\n",
        "    def nested(*contexts):\n",
        "        \"\"\"\n",
        "        Reimplementation of nested in python 3.\n",
        "        \"\"\"\n",
        "        with ExitStack() as stack:\n",
        "            for ctx in contexts:\n",
        "                stack.enter_context(ctx)\n",
        "            yield contexts\n",
        "import re\n",
        "import sys\n",
        "from os import path\n",
        "\n",
        "\n",
        "EMOJI_RE = re.compile(\"[\"\n",
        "        u\"\\U0001F600-\\U0001F64F\"  # emoticons\n",
        "        u\"\\U0001F300-\\U0001F5FF\"  # symbols & pictographs\n",
        "        u\"\\U0001F680-\\U0001F6FF\"  # transport & map symbols\n",
        "        u\"\\U0001F1E0-\\U0001F1FF\"  # flags (iOS)\n",
        "        u\"\\U00002702-\\U000027B0\"\n",
        "        u\"\\U000024C2-\\U0001F251\" \n",
        "                           \"]+\", flags=re.UNICODE)\n",
        "\n",
        "def uopen(*args):\n",
        "    return open(*args, encoding=\"UTF-8\")\n",
        "\n",
        "def remove_emoji(in_fname, out_fname):\n",
        "    with nested(uopen(in_fname), uopen(out_fname, \"w\")) as (inf, outf):\n",
        "        for line in inf:\n",
        "            outf.write(EMOJI_RE.sub(r'', line))\n",
        "\n",
        "def main():\n",
        "    in_fname = 'twitter.txt'\n",
        "    out_fname = 'twitter2.txt'\n",
        "    in2_fname = 'blogs.txt'\n",
        "    out2_fname = 'blogs2.txt'\n",
        "    in3_fname = 'news.txt'\n",
        "    out3_fname = 'news2.txt'\n",
        "\n",
        "    remove_emoji(in_fname, out_fname)\n",
        "    remove_emoji(in2_fname, out2_fname)\n",
        "    remove_emoji(in3_fname, out3_fname)\n",
        "    \n",
        "    \n",
        "if __name__ == \"__main__\":\n",
        "    main()\n",
        "    "
      ],
      "execution_count": 0,
      "outputs": []
    },
    {
      "metadata": {
        "id": "iq4SBpCzMEH0",
        "colab_type": "text"
      },
      "cell_type": "markdown",
      "source": [
        "##Quitando Stop Words\n",
        "\n"
      ]
    },
    {
      "metadata": {
        "id": "OUwyQ0ZasNUF",
        "colab_type": "code",
        "colab": {
          "base_uri": "https://localhost:8080/",
          "height": 54
        },
        "outputId": "3a9f48a2-4fc2-476e-9ae6-b1bbaece38bf"
      },
      "cell_type": "code",
      "source": [
        "import io \n",
        "from nltk.corpus import stopwords \n",
        "from nltk.tokenize import word_tokenize\n",
        "import nltk\n",
        "nltk.download('stopwords')\n",
        "stop_words = set(stopwords.words('english')) \n",
        "\n",
        "\n",
        "def StopWordRemover2000(filename, filewrite):\n",
        "  file1 = open(filename ,encoding=\"UTF-8\") \n",
        "  line = file1.read()# Use this to read file content as a stream: \n",
        "  words = line.split() \n",
        "  for r in words: \n",
        "      if not r in stop_words: \n",
        "          appendFile = open(filewrite,'a',encoding=\"UTF-8\") \n",
        "          appendFile.write(\" \"+r) \n",
        "          appendFile.close()\n",
        "  print('Success')\n",
        "  \n"
      ],
      "execution_count": 0,
      "outputs": [
        {
          "output_type": "stream",
          "text": [
            "[nltk_data] Downloading package stopwords to /root/nltk_data...\n",
            "[nltk_data]   Package stopwords is already up-to-date!\n"
          ],
          "name": "stdout"
        }
      ]
    },
    {
      "metadata": {
        "id": "KYOlZku7tf7_",
        "colab_type": "code",
        "colab": {
          "base_uri": "https://localhost:8080/",
          "height": 72
        },
        "outputId": "be9a6ea2-1402-4d55-ff05-0616f3b41cae"
      },
      "cell_type": "code",
      "source": [
        "StopWordRemover2000(\"news2.txt\", \"news.txt\")\n",
        "StopWordRemover2000(\"blogs2.txt\", \"blogs.txt\")\n",
        "StopWordRemover2000(\"twitter2.txt\", \"twitter.txt\")"
      ],
      "execution_count": 0,
      "outputs": [
        {
          "output_type": "stream",
          "text": [
            "Success\n",
            "Success\n",
            "Success\n"
          ],
          "name": "stdout"
        }
      ]
    },
    {
      "metadata": {
        "id": "cIQw4kpa5_hJ",
        "colab_type": "text"
      },
      "cell_type": "markdown",
      "source": [
        "## Analisis\n"
      ]
    },
    {
      "metadata": {
        "id": "56xBqCFtwyOn",
        "colab_type": "text"
      },
      "cell_type": "markdown",
      "source": [
        "## Diccionario de Palabras\n",
        "Aqui se ba a buscar hacer un contador de cuantas palabras únicas hay y cuantas veces se repite ciertas palabras. Esto es para sacar la frequencia de las palabras y poder sacar graficas del resultado"
      ]
    },
    {
      "metadata": {
        "id": "3VfjpOj2w-al",
        "colab_type": "code",
        "colab": {}
      },
      "cell_type": "code",
      "source": [
        "palabrasNews = {}\n",
        "palabrasBlog = {}\n",
        "palabrasTwitter = {}"
      ],
      "execution_count": 0,
      "outputs": []
    },
    {
      "metadata": {
        "id": "LqpPFylSxB95",
        "colab_type": "code",
        "colab": {}
      },
      "cell_type": "code",
      "source": [
        "def word_count(str):\n",
        "    counts = dict()\n",
        "    words = str.split()\n",
        "    for word in words:\n",
        "        if word in counts:\n",
        "            counts[word] += 1\n",
        "        else:\n",
        "            counts[word] = 1\n",
        "    return counts\n"
      ],
      "execution_count": 0,
      "outputs": []
    },
    {
      "metadata": {
        "id": "pI6EqvDrxp4q",
        "colab_type": "code",
        "colab": {}
      },
      "cell_type": "code",
      "source": [
        "with open('news.txt', 'r') as infile:\n",
        "  data = infile.read()\n",
        "  palabrasNews = word_count(data)\n",
        "  "
      ],
      "execution_count": 0,
      "outputs": []
    },
    {
      "metadata": {
        "id": "yDuZJBc3yJ8C",
        "colab_type": "code",
        "colab": {}
      },
      "cell_type": "code",
      "source": [
        "with open('blogs.txt', 'r') as infile:\n",
        "  data = infile.read()\n",
        "  palabrasBlog = word_count(data)\n",
        "  "
      ],
      "execution_count": 0,
      "outputs": []
    },
    {
      "metadata": {
        "id": "XYoYEno1yNIl",
        "colab_type": "code",
        "colab": {}
      },
      "cell_type": "code",
      "source": [
        "with open('twitter.txt', 'r') as infile:\n",
        "  data = infile.read()\n",
        "  palabrasTwitter = word_count(data)"
      ],
      "execution_count": 0,
      "outputs": []
    },
    {
      "metadata": {
        "id": "Msul53RD7yDP",
        "colab_type": "text"
      },
      "cell_type": "markdown",
      "source": [
        "### Ordenar listado\n",
        "Lo ordenamos para poder hacer busquedas mas rapidas y encontrar las palabras mas comunes. \n"
      ]
    },
    {
      "metadata": {
        "id": "eHo7u72l7x1o",
        "colab_type": "code",
        "colab": {
          "base_uri": "https://localhost:8080/",
          "height": 18217
        },
        "outputId": "95b02e3c-f6ba-42a8-ccfb-8ba760c1c7d2"
      },
      "cell_type": "code",
      "source": [
        "sorted(palabrasNews.items(), key=operator.itemgetter(1), reverse=True)"
      ],
      "execution_count": 0,
      "outputs": [
        {
          "output_type": "execute_result",
          "data": {
            "text/plain": [
              "[('n', 100412),\n",
              " ('said', 23356),\n",
              " ('that', 16177),\n",
              " ('is', 13073),\n",
              " ('he', 11319),\n",
              " ('was', 10618),\n",
              " ('it', 10244),\n",
              " ('i', 8203),\n",
              " ('would', 6994),\n",
              " ('are', 6486),\n",
              " ('s', 6108),\n",
              " ('has', 5792),\n",
              " ('have', 5663),\n",
              " ('they', 5609),\n",
              " ('also', 5550),\n",
              " ('will', 5462),\n",
              " ('who', 5426),\n",
              " ('we', 5312),\n",
              " ('be', 4985),\n",
              " ('not', 4768),\n",
              " ('you', 4556),\n",
              " ('--', 4548),\n",
              " ('or', 4507),\n",
              " ('his', 4408),\n",
              " ('this', 4360),\n",
              " ('new', 4280),\n",
              " ('one', 4206),\n",
              " ('could', 4090),\n",
              " ('last', 4044),\n",
              " ('two', 3984),\n",
              " ('—', 3740),\n",
              " ('she', 3686),\n",
              " ('when', 3655),\n",
              " ('had', 3597),\n",
              " ('first', 3572),\n",
              " ('year', 3462),\n",
              " ('were', 3440),\n",
              " ('years', 3398),\n",
              " ('”', 3312),\n",
              " ('state', 3266),\n",
              " ('people', 3144),\n",
              " ('if', 3108),\n",
              " ('can', 3055),\n",
              " ('been', 3048),\n",
              " ('says', 3010),\n",
              " ('000', 2950),\n",
              " ('its', 2731),\n",
              " ('there', 2661),\n",
              " ('time', 2650),\n",
              " ('so', 2618),\n",
              " ('p', 2564),\n",
              " ('which', 2543),\n",
              " ('-', 2518),\n",
              " ('m', 2514),\n",
              " ('more', 2487),\n",
              " ('county', 2478),\n",
              " ('city', 2476),\n",
              " ('their', 2456),\n",
              " ('no', 2426),\n",
              " ('even', 2418),\n",
              " ('school', 2346),\n",
              " ('may', 2344),\n",
              " ('still', 2342),\n",
              " ('t', 2323),\n",
              " ('1', 2282),\n",
              " ('three', 2222),\n",
              " ('made', 2162),\n",
              " ('get', 2134),\n",
              " ('police', 2086),\n",
              " ('good', 2064),\n",
              " ('what', 2063),\n",
              " ('think', 2038),\n",
              " ('just', 1985),\n",
              " ('million', 1962),\n",
              " ('her', 1933),\n",
              " ('all', 1917),\n",
              " ('many', 1908),\n",
              " ('other', 1895),\n",
              " ('know', 1832),\n",
              " ('2', 1824),\n",
              " ('say', 1810),\n",
              " ('team', 1804),\n",
              " ('make', 1733),\n",
              " ('told', 1730),\n",
              " ('season', 1720),\n",
              " ('percent', 1714),\n",
              " ('home', 1704),\n",
              " ('really', 1684),\n",
              " ('some', 1663),\n",
              " ('much', 1614),\n",
              " ('day', 1590),\n",
              " ('now', 1586),\n",
              " ('company', 1584),\n",
              " ('got', 1562),\n",
              " ('never', 1560),\n",
              " ('high', 1548),\n",
              " ('another', 1540),\n",
              " ('game', 1514),\n",
              " ('little', 1462),\n",
              " ('because', 1461),\n",
              " ('family', 1452),\n",
              " ('u', 1448),\n",
              " ('st', 1440),\n",
              " ('only', 1439),\n",
              " ('back', 1430),\n",
              " ('officials', 1420),\n",
              " ('might', 1416),\n",
              " ('best', 1410),\n",
              " ('every', 1402),\n",
              " ('then', 1392),\n",
              " ('while', 1389),\n",
              " ('3', 1388),\n",
              " ('where', 1385),\n",
              " ('5', 1380),\n",
              " ('public', 1370),\n",
              " ('do', 1348),\n",
              " ('big', 1344),\n",
              " ('four', 1330),\n",
              " ('week', 1318),\n",
              " ('though', 1314),\n",
              " ('former', 1310),\n",
              " ('great', 1302),\n",
              " ('way', 1300),\n",
              " ('right', 1286),\n",
              " ('center', 1268),\n",
              " ('my', 1266),\n",
              " ('take', 1254),\n",
              " ('took', 1252),\n",
              " ('4', 1233),\n",
              " ('found', 1218),\n",
              " ('10', 1212),\n",
              " ('today', 1210),\n",
              " ('called', 1188),\n",
              " ('work', 1188),\n",
              " ('long', 1174),\n",
              " ('house', 1172),\n",
              " ('health', 1172),\n",
              " ('see', 1166),\n",
              " ('law', 1160),\n",
              " ('district', 1118),\n",
              " ('did', 1113),\n",
              " ('our', 1111),\n",
              " ('later', 1108),\n",
              " ('ago', 1106),\n",
              " ('show', 1104),\n",
              " ('should', 1100),\n",
              " ('most', 1097),\n",
              " ('how', 1096),\n",
              " ('states', 1086),\n",
              " ('always', 1080),\n",
              " ('coach', 1066),\n",
              " ('business', 1066),\n",
              " ('man', 1064),\n",
              " ('bill', 1052),\n",
              " ('president', 1050),\n",
              " ('well', 1046),\n",
              " ('0', 1038),\n",
              " ('night', 1038),\n",
              " ('government', 1038),\n",
              " ('better', 1036),\n",
              " ('already', 1028),\n",
              " ('group', 1006),\n",
              " ('second', 996),\n",
              " ('park', 990),\n",
              " ('games', 988),\n",
              " ('him', 987),\n",
              " ('federal', 982),\n",
              " ('your', 981),\n",
              " ('john', 974),\n",
              " ('dont', 974),\n",
              " ('re', 971),\n",
              " ('york', 966),\n",
              " ('left', 962),\n",
              " ('office', 950),\n",
              " ('7', 948),\n",
              " ('program', 936),\n",
              " ('6', 932),\n",
              " ('national', 932),\n",
              " ('court', 924),\n",
              " ('very', 924),\n",
              " ('put', 922),\n",
              " ('community', 922),\n",
              " ('louis', 916),\n",
              " ('hit', 912),\n",
              " ('money', 912),\n",
              " ('jersey', 908),\n",
              " ('things', 908),\n",
              " ('8', 908),\n",
              " ('thats', 898),\n",
              " ('them', 897),\n",
              " ('tax', 896),\n",
              " ('must', 892),\n",
              " ('something', 892),\n",
              " ('days', 886),\n",
              " ('too', 885),\n",
              " ('those', 883),\n",
              " ('five', 880),\n",
              " ('however', 878),\n",
              " ('didnt', 866),\n",
              " ('whether', 852),\n",
              " ('often', 850),\n",
              " ('students', 848),\n",
              " ('don', 843),\n",
              " ('com', 842),\n",
              " ('young', 842),\n",
              " ('several', 842),\n",
              " ('children', 840),\n",
              " ('play', 836),\n",
              " ('9', 835),\n",
              " ('system', 834),\n",
              " ('street', 834),\n",
              " ('service', 828),\n",
              " ('life', 826),\n",
              " ('case', 814),\n",
              " ('ohio', 812),\n",
              " ('sure', 812),\n",
              " ('obama', 810),\n",
              " ('schools', 810),\n",
              " ('us', 810),\n",
              " ('road', 796),\n",
              " ('world', 794),\n",
              " ('hes', 792),\n",
              " ('care', 790),\n",
              " ('players', 790),\n",
              " ('any', 786),\n",
              " ('american', 786),\n",
              " ('makes', 782),\n",
              " ('board', 782),\n",
              " ('making', 772),\n",
              " ('thing', 772),\n",
              " ('11', 770),\n",
              " ('point', 768),\n",
              " ('own', 767),\n",
              " ('started', 766),\n",
              " ('go', 764),\n",
              " ('job', 764),\n",
              " ('points', 758),\n",
              " ('friday', 758),\n",
              " ('yet', 754),\n",
              " ('place', 752),\n",
              " ('local', 750),\n",
              " ('asked', 748),\n",
              " ('use', 748),\n",
              " ('small', 746),\n",
              " ('area', 746),\n",
              " ('report', 744),\n",
              " ('real', 742),\n",
              " ('free', 742),\n",
              " ('university', 740),\n",
              " ('white', 738),\n",
              " ('plan', 736),\n",
              " ('help', 736),\n",
              " ('call', 734),\n",
              " ('thursday', 734),\n",
              " ('food', 730),\n",
              " ('months', 728),\n",
              " ('members', 724),\n",
              " ('getting', 722),\n",
              " ('added', 720),\n",
              " ('general', 718),\n",
              " ('12', 714),\n",
              " ('six', 714),\n",
              " ('month', 714),\n",
              " ('department', 708),\n",
              " ('news', 706),\n",
              " ('being', 705),\n",
              " ('different', 702),\n",
              " ('top', 700),\n",
              " ('include', 698),\n",
              " ('monday', 696),\n",
              " ('ve', 696),\n",
              " ('market', 692),\n",
              " ('chief', 692),\n",
              " ('done', 692),\n",
              " ('room', 690),\n",
              " ('nearly', 690),\n",
              " ('find', 686),\n",
              " ('ever', 684),\n",
              " ('thought', 684),\n",
              " ('old', 682),\n",
              " ('here', 681),\n",
              " ('lost', 680),\n",
              " ('minutes', 678),\n",
              " ('it’s', 674),\n",
              " ('although', 672),\n",
              " ('early', 670),\n",
              " ('open', 670),\n",
              " ('services', 670),\n",
              " ('need', 666),\n",
              " ('april', 664),\n",
              " ('saying', 662),\n",
              " ('these', 662),\n",
              " ('whose', 662),\n",
              " ('doesnt', 660),\n",
              " ('tuesday', 656),\n",
              " ('become', 656),\n",
              " (')', 652),\n",
              " ('believe', 652),\n",
              " ('became', 650),\n",
              " ('teams', 650),\n",
              " ('love', 650),\n",
              " ('attorney', 650),\n",
              " ('companies', 650),\n",
              " ('others', 648),\n",
              " ('run', 644),\n",
              " ('cleveland', 642),\n",
              " ('me', 639),\n",
              " ('medical', 636),\n",
              " ('college', 636),\n",
              " ('using', 636),\n",
              " ('let', 634),\n",
              " ('both', 634),\n",
              " ('budget', 634),\n",
              " ('major', 634),\n",
              " ('jobs', 634),\n",
              " ('building', 634),\n",
              " ('20', 632),\n",
              " ('water', 630),\n",
              " ('gave', 630),\n",
              " ('feel', 630),\n",
              " ('probably', 630),\n",
              " ('played', 626),\n",
              " ('–', 624),\n",
              " ('want', 624),\n",
              " ('executive', 624),\n",
              " ('kids', 624),\n",
              " ('away', 622),\n",
              " ('republican', 622),\n",
              " ('campaign', 620),\n",
              " ('mr', 620),\n",
              " ('music', 620),\n",
              " ('give', 618),\n",
              " ('financial', 618),\n",
              " ('san', 616),\n",
              " ('michael', 614),\n",
              " ('saw', 612),\n",
              " ('washington', 612),\n",
              " ('director', 610),\n",
              " ('council', 608),\n",
              " ('less', 606),\n",
              " ('project', 602),\n",
              " ('enough', 602),\n",
              " ('wednesday', 600),\n",
              " ('sunday', 598),\n",
              " ('far', 594),\n",
              " ('wife', 594),\n",
              " ('billion', 594),\n",
              " ('political', 594),\n",
              " ('third', 590),\n",
              " ('career', 588),\n",
              " ('recently', 588),\n",
              " ('senior', 586),\n",
              " ('david', 586),\n",
              " ('saturday', 586),\n",
              " ('earlier', 584),\n",
              " ('few', 581),\n",
              " ('fire', 580),\n",
              " ('set', 580),\n",
              " ('car', 580),\n",
              " ('x94', 576),\n",
              " ('final', 574),\n",
              " ('15', 570),\n",
              " ('does', 570),\n",
              " ('weeks', 568),\n",
              " ('theres', 568),\n",
              " ('league', 568),\n",
              " ('keep', 566),\n",
              " ('sales', 566),\n",
              " ('conference', 564),\n",
              " ('used', 562),\n",
              " ('west', 560),\n",
              " ('going', 560),\n",
              " ('received', 558),\n",
              " ('each', 555),\n",
              " ('bad', 554),\n",
              " ('parents', 552),\n",
              " ('brown', 552),\n",
              " ('together', 550),\n",
              " ('party', 548),\n",
              " ('security', 548),\n",
              " ('spent', 546),\n",
              " ('includes', 544),\n",
              " ('agency', 544),\n",
              " ('helped', 544),\n",
              " ('james', 542),\n",
              " ('why', 540),\n",
              " ('romney', 540),\n",
              " ('dr', 536),\n",
              " ('information', 534),\n",
              " ('pretty', 534),\n",
              " ('fans', 534),\n",
              " ('30', 534),\n",
              " ('came', 532),\n",
              " ('line', 532),\n",
              " ('almost', 530),\n",
              " ('actually', 530),\n",
              " ('pay', 528),\n",
              " ('$1', 528),\n",
              " ('large', 526),\n",
              " ('hours', 526),\n",
              " ('staff', 524),\n",
              " ('reported', 522),\n",
              " ('important', 522),\n",
              " ('seen', 522),\n",
              " ('economy', 522),\n",
              " ('shows', 520),\n",
              " ('won', 520),\n",
              " ('began', 520),\n",
              " ('committee', 516),\n",
              " ('green', 516),\n",
              " ('story', 516),\n",
              " ('women', 514),\n",
              " ('employees', 512),\n",
              " ('smith', 512),\n",
              " ('went', 512),\n",
              " ('j', 510),\n",
              " ('economic', 510),\n",
              " ('education', 508),\n",
              " ('strong', 506),\n",
              " ('manager', 506),\n",
              " ('recent', 506),\n",
              " ('workers', 504),\n",
              " ('men', 504),\n",
              " ('mother', 504),\n",
              " ('special', 504),\n",
              " ('taking', 500),\n",
              " ('announced', 500),\n",
              " ('tell', 494),\n",
              " ('change', 494),\n",
              " ('angeles', 494),\n",
              " ('seven', 494),\n",
              " ('father', 492),\n",
              " ('add', 490),\n",
              " ('come', 490),\n",
              " ('half', 490),\n",
              " ('red', 490),\n",
              " ('same', 488),\n",
              " ('officers', 488),\n",
              " ('judge', 488),\n",
              " ('cut', 486),\n",
              " ('morning', 486),\n",
              " ('son', 484),\n",
              " ('process', 484),\n",
              " ('player', 484),\n",
              " ('forward', 478),\n",
              " ('goingbe', 478),\n",
              " ('end', 478),\n",
              " ('bank', 478),\n",
              " ('power', 476),\n",
              " ('defense', 476),\n",
              " ('shot', 476),\n",
              " ('portland', 476),\n",
              " ('oregon', 476),\n",
              " ('field', 476),\n",
              " ('mike', 474),\n",
              " ('win', 474),\n",
              " ('energy', 474),\n",
              " ('johnson', 472),\n",
              " ('industry', 472),\n",
              " ('maybe', 470),\n",
              " ('oil', 470),\n",
              " ('cost', 470),\n",
              " ('scored', 470),\n",
              " ('c', 470),\n",
              " ('north', 468),\n",
              " ('safety', 468),\n",
              " ('sometimes', 468),\n",
              " ('country', 468),\n",
              " ('black', 468),\n",
              " ('once', 467),\n",
              " ('gets', 466),\n",
              " ('playing', 466),\n",
              " ('chris', 466),\n",
              " ('knew', 466),\n",
              " ('lot', 464),\n",
              " ('likely', 462),\n",
              " ('wine', 462),\n",
              " ('support', 461),\n",
              " ('hard', 460),\n",
              " ('history', 460),\n",
              " ('issue', 458),\n",
              " ('14', 456),\n",
              " ('annual', 456),\n",
              " ('wasnt', 454),\n",
              " ('series', 454),\n",
              " ('full', 452),\n",
              " ('issues', 452),\n",
              " ('clear', 452),\n",
              " ('paul', 452),\n",
              " ('start', 452),\n",
              " ('gov', 452),\n",
              " ('east', 450),\n",
              " ('2010', 450),\n",
              " ('fact', 450),\n",
              " ('spokesman', 450),\n",
              " ('everything', 450),\n",
              " ('club', 450),\n",
              " ('course', 448),\n",
              " ('football', 448),\n",
              " ('“i', 448),\n",
              " ('running', 448),\n",
              " ('mayor', 446),\n",
              " ('valley', 446),\n",
              " ('name', 446),\n",
              " ('film', 446),\n",
              " ('woman', 444),\n",
              " ('head', 444),\n",
              " ('500', 444),\n",
              " ('included', 444),\n",
              " ('private', 442),\n",
              " ('takes', 442),\n",
              " ('mark', 442),\n",
              " ('international', 440),\n",
              " ('christie', 440),\n",
              " ('side', 438),\n",
              " ('senate', 438),\n",
              " ('led', 438),\n",
              " ('officer', 438),\n",
              " ('residents', 438),\n",
              " ('again', 437),\n",
              " ('late', 436),\n",
              " ('friends', 436),\n",
              " ('means', 432),\n",
              " ('isnt', 432),\n",
              " ('wont', 432),\n",
              " ('march', 432),\n",
              " ('18', 432),\n",
              " ('summer', 430),\n",
              " ('groups', 430),\n",
              " ('whole', 430),\n",
              " ('guy', 430),\n",
              " ('everyone', 428),\n",
              " ('gas', 428),\n",
              " ('provide', 428),\n",
              " ('person', 428),\n",
              " ('eight', 428),\n",
              " ('guard', 428),\n",
              " ('released', 426),\n",
              " ('daughter', 426),\n",
              " ('williams', 426),\n",
              " ('else', 424),\n",
              " ('francisco', 424),\n",
              " ('x92s', 422),\n",
              " ('deal', 418),\n",
              " ('cant', 418),\n",
              " ('california', 418),\n",
              " ('event', 418),\n",
              " ('ball', 416),\n",
              " ('guys', 416),\n",
              " ('restaurant', 416),\n",
              " ('lead', 416),\n",
              " ('union', 416),\n",
              " ('offer', 416),\n",
              " ('look', 416),\n",
              " ('25', 414),\n",
              " ('costs', 412),\n",
              " ('administration', 410),\n",
              " ('scott', 408),\n",
              " ('someone', 408),\n",
              " ('held', 408),\n",
              " ('such', 406),\n",
              " ('class', 406),\n",
              " ('child', 404),\n",
              " ('experience', 404),\n",
              " ('art', 402),\n",
              " ('prices', 400),\n",
              " ('biggest', 400),\n",
              " ('nothing', 400),\n",
              " ('decision', 398),\n",
              " ('legal', 398),\n",
              " ('meeting', 398),\n",
              " ('instead', 398),\n",
              " ('runs', 396),\n",
              " ('online', 394),\n",
              " ('leaders', 394),\n",
              " ('river', 394),\n",
              " ('showed', 394),\n",
              " ('south', 392),\n",
              " ('wrote', 392),\n",
              " ('development', 390),\n",
              " ('spring', 390),\n",
              " ('2011', 390),\n",
              " ('social', 390),\n",
              " ('theyre', 388),\n",
              " ('longer', 388),\n",
              " ('13', 388),\n",
              " ('insurance', 386),\n",
              " ('g', 386),\n",
              " ('don’t', 386),\n",
              " ('spending', 386),\n",
              " ('im', 384),\n",
              " ('doing', 384),\n",
              " ('16', 384),\n",
              " ('hope', 384),\n",
              " ('rose', 384),\n",
              " ('paid', 384),\n",
              " ('problems', 382),\n",
              " ('personal', 382),\n",
              " ('drive', 382),\n",
              " ('current', 380),\n",
              " ('church', 380),\n",
              " ('finally', 380),\n",
              " ('book', 380),\n",
              " ('inc', 378),\n",
              " ('property', 378),\n",
              " ('authorities', 378),\n",
              " ('quarter', 378),\n",
              " ('press', 376),\n",
              " ('star', 376),\n",
              " ('felt', 376),\n",
              " ('research', 376),\n",
              " ('bar', 374),\n",
              " ('average', 374),\n",
              " ('teachers', 374),\n",
              " ('records', 372),\n",
              " ('matter', 372),\n",
              " ('anything', 372),\n",
              " ('statement', 372),\n",
              " ('training', 372),\n",
              " ('d', 372),\n",
              " ('body', 372),\n",
              " ('either', 372),\n",
              " ('soon', 370),\n",
              " ('homes', 370),\n",
              " ('record', 370),\n",
              " ('move', 370),\n",
              " ('fund', 368),\n",
              " ('democrats', 366),\n",
              " ('youre', 366),\n",
              " ('face', 366),\n",
              " ('sports', 366),\n",
              " ('credit', 364),\n",
              " ('goal', 364),\n",
              " ('eventually', 362),\n",
              " ('commission', 362),\n",
              " ('avenue', 362),\n",
              " ('problem', 362),\n",
              " ('possible', 362),\n",
              " ('favorite', 362),\n",
              " ('main', 360),\n",
              " ('race', 360),\n",
              " ('hall', 360),\n",
              " ('rate', 360),\n",
              " ('key', 360),\n",
              " ('thomas', 360),\n",
              " ('perhaps', 358),\n",
              " ('x96', 358),\n",
              " ('death', 358),\n",
              " ('jones', 358),\n",
              " ('especially', 358),\n",
              " ('united', 358),\n",
              " ('store', 358),\n",
              " ('higher', 358),\n",
              " ('programs', 356),\n",
              " ('technology', 356),\n",
              " ('policy', 356),\n",
              " ('square', 354),\n",
              " ('customers', 354),\n",
              " ('force', 354),\n",
              " ('de', 354),\n",
              " ('offers', 354),\n",
              " ('drug', 354),\n",
              " ('voters', 354),\n",
              " ('student', 352),\n",
              " ('live', 352),\n",
              " ('50', 350),\n",
              " ('price', 350),\n",
              " ('sent', 350),\n",
              " ('knows', 350),\n",
              " ('firm', 350),\n",
              " ('robert', 348),\n",
              " ('17', 348),\n",
              " ('19', 348),\n",
              " ('husband', 348),\n",
              " ('central', 346),\n",
              " ('joe', 346),\n",
              " ('air', 344),\n",
              " ('100', 344),\n",
              " ('tom', 344),\n",
              " ('future', 344),\n",
              " ('bit', 342),\n",
              " ('yes', 342),\n",
              " ('families', 342),\n",
              " ('2009', 342),\n",
              " ('level', 340),\n",
              " ('lake', 340),\n",
              " ('feet', 338),\n",
              " ('allowed', 338),\n",
              " ('additional', 338),\n",
              " ('idea', 338),\n",
              " ('question', 338),\n",
              " ('mean', 338),\n",
              " ('didn', 336),\n",
              " ('bring', 336),\n",
              " ('governor', 336),\n",
              " ('plays', 336),\n",
              " ('election', 334),\n",
              " ('data', 334),\n",
              " ('coming', 334),\n",
              " ('kept', 334),\n",
              " ('association', 334),\n",
              " ('visit', 334),\n",
              " ('usually', 334),\n",
              " ('construction', 332),\n",
              " ('certainly', 332),\n",
              " ('stadium', 332),\n",
              " ('died', 332),\n",
              " ('quite', 332),\n",
              " ('21', 330),\n",
              " ('media', 330),\n",
              " ('named', 330),\n",
              " ('yards', 328),\n",
              " ('turned', 328),\n",
              " ('ll', 327),\n",
              " ('war', 326),\n",
              " ('needed', 326),\n",
              " ('hot', 324),\n",
              " ('overall', 324),\n",
              " ('movie', 324),\n",
              " ('prosecutors', 324),\n",
              " ('leave', 324),\n",
              " ('allow', 324),\n",
              " ('serious', 322),\n",
              " ('cases', 322),\n",
              " ('largest', 320),\n",
              " ('list', 320),\n",
              " ('taxes', 320),\n",
              " ('works', 318),\n",
              " ('fourth', 318),\n",
              " ('brought', 318),\n",
              " ('working', 318),\n",
              " ('am', 316),\n",
              " ('simply', 316),\n",
              " ('george', 316),\n",
              " ('passed', 316),\n",
              " ('nine', 316),\n",
              " ('23', 316),\n",
              " ('winning', 316),\n",
              " ('defensive', 316),\n",
              " ('worked', 316),\n",
              " ('charles', 316),\n",
              " ('24', 316),\n",
              " ('quickly', 314),\n",
              " ('true', 314),\n",
              " ('growing', 314),\n",
              " ('los', 314),\n",
              " ('position', 314),\n",
              " ('tough', 314),\n",
              " ('taken', 314),\n",
              " ('needs', 314),\n",
              " ('close', 314),\n",
              " ('example', 312),\n",
              " ('management', 312),\n",
              " ('bay', 312),\n",
              " ('tv', 312),\n",
              " ('turn', 312),\n",
              " ('orange', 310),\n",
              " ('bowl', 310),\n",
              " ('military', 310),\n",
              " ('he’s', 310),\n",
              " ('events', 310),\n",
              " ('basketball', 308),\n",
              " ('straight', 308),\n",
              " ('hill', 308),\n",
              " ('immediately', 306),\n",
              " ('reports', 306),\n",
              " ('reason', 306),\n",
              " ('features', 306),\n",
              " ('site', 306),\n",
              " ('growth', 306),\n",
              " ('co', 306),\n",
              " ('cup', 306),\n",
              " ('friend', 304),\n",
              " ('rights', 304),\n",
              " ('hospital', 304),\n",
              " ('fall', 304),\n",
              " ('beach', 304),\n",
              " ('situation', 302),\n",
              " ('2008', 302),\n",
              " ('contract', 302),\n",
              " ('gives', 302),\n",
              " ('available', 302),\n",
              " ('phone', 302),\n",
              " ('rep', 302),\n",
              " ('jr', 302),\n",
              " ('giving', 302),\n",
              " ('require', 302),\n",
              " ('killed', 300),\n",
              " ('chicago', 300),\n",
              " ('tournament', 300),\n",
              " ('democratic', 300),\n",
              " ('stop', 300),\n",
              " ('opening', 300),\n",
              " ('action', 298),\n",
              " ('happy', 298),\n",
              " ('huge', 298),\n",
              " ('pick', 298),\n",
              " ('republicans', 298),\n",
              " ('americans', 298),\n",
              " ('performance', 298),\n",
              " ('heart', 296),\n",
              " ('video', 296),\n",
              " ('texas', 296),\n",
              " ('signed', 294),\n",
              " ('e', 294),\n",
              " ('expect', 294),\n",
              " ('single', 294),\n",
              " ('space', 294),\n",
              " ('light', 292),\n",
              " ('brother', 292),\n",
              " ('charges', 292),\n",
              " ('considered', 292),\n",
              " ('draft', 292),\n",
              " ('official', 292),\n",
              " ('part', 292),\n",
              " ('earned', 292),\n",
              " ('davis', 292),\n",
              " ('businesses', 292),\n",
              " ('steve', 290),\n",
              " ('jim', 290),\n",
              " ('sen', 290),\n",
              " ('wanted', 290),\n",
              " ('“we', 290),\n",
              " ('fell', 288),\n",
              " ('w', 288),\n",
              " ('trade', 288),\n",
              " ('investors', 288),\n",
              " ('changes', 286),\n",
              " ('short', 286),\n",
              " ('didn’t', 286),\n",
              " ('projects', 286),\n",
              " ('offered', 286),\n",
              " ('latest', 284),\n",
              " ('traffic', 284),\n",
              " ('consider', 284),\n",
              " ('control', 284),\n",
              " ('stores', 284),\n",
              " ('organization', 284),\n",
              " ('ask', 282),\n",
              " ('human', 282),\n",
              " ('goals', 282),\n",
              " ('raised', 282),\n",
              " ('wrong', 280),\n",
              " ('town', 280),\n",
              " ('areas', 278),\n",
              " ('“the', 278),\n",
              " ('least', 278),\n",
              " ('hotel', 278),\n",
              " ('test', 278),\n",
              " ('similar', 278),\n",
              " ('boy', 278),\n",
              " ('28', 278),\n",
              " ('martin', 276),\n",
              " ('26', 276),\n",
              " ('assistant', 276),\n",
              " ('products', 276),\n",
              " ('weekend', 276),\n",
              " ('rock', 276),\n",
              " ('previous', 274),\n",
              " ('stock', 274),\n",
              " ('entire', 274),\n",
              " ('hits', 274),\n",
              " ('fresh', 274),\n",
              " ('revenue', 274),\n",
              " ('baseball', 274),\n",
              " ('age', 272),\n",
              " ('nice', 272),\n",
              " ('22', 272),\n",
              " ('read', 272),\n",
              " ('benefits', 272),\n",
              " ('understand', 272),\n",
              " ('2012', 272),\n",
              " ('owner', 272),\n",
              " ('heat', 272),\n",
              " ('opened', 272),\n",
              " ('having', 271),\n",
              " ('detroit', 270),\n",
              " ('primary', 270),\n",
              " ('total', 270),\n",
              " ('junior', 270),\n",
              " ('remains', 270),\n",
              " ('america', 270),\n",
              " ('extra', 270),\n",
              " ('that’s', 270),\n",
              " ('daily', 270),\n",
              " ('beat', 270),\n",
              " ('patients', 270),\n",
              " ('number', 268),\n",
              " ('florida', 268),\n",
              " ('adding', 268),\n",
              " ('districts', 268),\n",
              " ('fun', 268),\n",
              " ('debt', 268),\n",
              " ('dinner', 268),\n",
              " ('income', 268),\n",
              " ('anyone', 266),\n",
              " ('arizona', 266),\n",
              " ('blazers', 266),\n",
              " ('missed', 266),\n",
              " ('neighborhood', 266),\n",
              " ('40', 266),\n",
              " ('00', 266),\n",
              " ('ave', 264),\n",
              " ('band', 264),\n",
              " ('calls', 264),\n",
              " ('remember', 264),\n",
              " ('corp', 264),\n",
              " ('ran', 264),\n",
              " ('cancer', 262),\n",
              " ('jackson', 262),\n",
              " ('heard', 262),\n",
              " ('ryan', 262),\n",
              " ('numbers', 262),\n",
              " ('afternoon', 262),\n",
              " ('rules', 262),\n",
              " ('starting', 262),\n",
              " ('leading', 260),\n",
              " ('increase', 260),\n",
              " ('dog', 260),\n",
              " ('blue', 260),\n",
              " ('currently', 260),\n",
              " ('fair', 260),\n",
              " ('seasons', 260),\n",
              " ('finished', 260),\n",
              " ('changed', 260),\n",
              " ('vote', 258),\n",
              " ('miles', 258),\n",
              " ('meanwhile', 258),\n",
              " ('title', 258),\n",
              " ('driving', 258),\n",
              " ('couple', 258),\n",
              " ('study', 256),\n",
              " ('increased', 256),\n",
              " ('tim', 256),\n",
              " ('buy', 256),\n",
              " ('investigation', 256),\n",
              " ('results', 256),\n",
              " ('filed', 256),\n",
              " ('championship', 256),\n",
              " ('create', 256),\n",
              " ('perfect', 254),\n",
              " ('moving', 254),\n",
              " ('cannot', 254),\n",
              " ('simple', 252),\n",
              " ('boys', 252),\n",
              " ('parks', 252),\n",
              " ('hand', 250),\n",
              " ('cuts', 250),\n",
              " ('coast', 250),\n",
              " ('$2', 250),\n",
              " ('lines', 250),\n",
              " ('bought', 250),\n",
              " ('seconds', 250),\n",
              " ('garden', 250),\n",
              " ('noted', 250),\n",
              " ('base', 248),\n",
              " ('seeing', 248),\n",
              " ('created', 248),\n",
              " ('popular', 248),\n",
              " ('king', 248),\n",
              " ('enjoy', 248),\n",
              " ('gone', 248),\n",
              " ('(the', 248),\n",
              " ('enforcement', 248),\n",
              " ('hearing', 248),\n",
              " ('plans', 246),\n",
              " ('leadership', 246),\n",
              " ('leaving', 246),\n",
              " ('menu', 246),\n",
              " ('girl', 246),\n",
              " ('browns', 246),\n",
              " ('act', 246),\n",
              " ('injury', 246),\n",
              " ('shooting', 246),\n",
              " ('weather', 246),\n",
              " ('measure', 246),\n",
              " ('www', 246),\n",
              " ('richard', 246),\n",
              " ('track', 244),\n",
              " ('resident', 244),\n",
              " ('township', 244),\n",
              " ('hold', 244),\n",
              " ('closed', 244),\n",
              " ('met', 244),\n",
              " ('laws', 242),\n",
              " ('definitely', 242),\n",
              " ('miller', 242),\n",
              " ('estate', 242),\n",
              " ('parking', 242),\n",
              " ('immigration', 242),\n",
              " ('investment', 242),\n",
              " ('member', 242),\n",
              " ('network', 240),\n",
              " ('diego', 240),\n",
              " ('cause', 240),\n",
              " ('hills', 240),\n",
              " ('27', 240),\n",
              " ('restaurants', 240),\n",
              " ('wide', 240),\n",
              " ('…', 240),\n",
              " ...]"
            ]
          },
          "metadata": {
            "tags": []
          },
          "execution_count": 49
        }
      ]
    },
    {
      "metadata": {
        "id": "tlBWVl63d4CV",
        "colab_type": "text"
      },
      "cell_type": "markdown",
      "source": [
        "##Histogramas\n",
        "\n",
        "Se realizan histogramas para un mejor entendimiento\n"
      ]
    },
    {
      "metadata": {
        "id": "FQcdG-Fzixk6",
        "colab_type": "code",
        "colab": {}
      },
      "cell_type": "code",
      "source": [
        "def keyInOrder(listName, number):\n",
        "  keys = list(sorted(listName, key=listName.__getitem__, reverse=True))\n",
        "  keys = keys[:number]\n",
        "  firstFew = {x:listName[x] for x in keys}\n",
        "  return firstFew"
      ],
      "execution_count": 0,
      "outputs": []
    },
    {
      "metadata": {
        "id": "UOy8GgOl46f3",
        "colab_type": "text"
      },
      "cell_type": "markdown",
      "source": [
        "### News\n",
        "\n",
        "Podemos observar que la palabra que mas se repite en News es n seguida por to y of\n"
      ]
    },
    {
      "metadata": {
        "id": "FPotC1MN5fiW",
        "colab_type": "code",
        "colab": {}
      },
      "cell_type": "code",
      "source": [
        "keys = keyInOrder(palabrasNews, 20)"
      ],
      "execution_count": 0,
      "outputs": []
    },
    {
      "metadata": {
        "id": "IpV3OXtlkjpi",
        "colab_type": "code",
        "colab": {
          "base_uri": "https://localhost:8080/",
          "height": 381
        },
        "outputId": "c5e59d37-b285-480e-8e53-ae73c960e683"
      },
      "cell_type": "code",
      "source": [
        "plt.bar(keys.keys(), keys.values(), color='b')\n",
        "plt.title(\"News\")"
      ],
      "execution_count": 0,
      "outputs": [
        {
          "output_type": "execute_result",
          "data": {
            "text/plain": [
              "Text(0.5,1,'News')"
            ]
          },
          "metadata": {
            "tags": []
          },
          "execution_count": 53
        },
        {
          "output_type": "display_data",
          "data": {
            "image/png": "[encoded data removed]",
            "text/plain": [
              "<matplotlib.figure.Figure at 0x7efe1b3fefd0>"
            ]
          },
          "metadata": {
            "tags": []
          }
        }
      ]
    },
    {
      "metadata": {
        "id": "HfkuJ0In5DPc",
        "colab_type": "text"
      },
      "cell_type": "markdown",
      "source": [
        "### Blogs\n",
        "\n",
        "Podemos observar que la palabra que mas se repite en Blogs es n"
      ]
    },
    {
      "metadata": {
        "id": "AwDLuTLi5qZl",
        "colab_type": "code",
        "colab": {}
      },
      "cell_type": "code",
      "source": [
        "keys = keyInOrder(palabrasBlog, 20)"
      ],
      "execution_count": 0,
      "outputs": []
    },
    {
      "metadata": {
        "id": "RnF2aufX5DPg",
        "colab_type": "code",
        "colab": {
          "base_uri": "https://localhost:8080/",
          "height": 381
        },
        "outputId": "c507c445-61a7-480f-813a-7320a8b19a0b"
      },
      "cell_type": "code",
      "source": [
        "plt.bar(keys.keys(), keys.values(), color='b')\n",
        "plt.title(\"Blog\")"
      ],
      "execution_count": 0,
      "outputs": [
        {
          "output_type": "execute_result",
          "data": {
            "text/plain": [
              "Text(0.5,1,'Blog')"
            ]
          },
          "metadata": {
            "tags": []
          },
          "execution_count": 55
        },
        {
          "output_type": "display_data",
          "data": {
            "image/png": "[encoded data removed]",
            "text/plain": [
              "<matplotlib.figure.Figure at 0x7efe1b0430f0>"
            ]
          },
          "metadata": {
            "tags": []
          }
        }
      ]
    },
    {
      "metadata": {
        "id": "47zPTmRV5GFe",
        "colab_type": "text"
      },
      "cell_type": "markdown",
      "source": [
        "### Twitter\n",
        "\n",
        "Podemos observar que la palabra que mas se repite en Twitter es n, seguida por i y to\n"
      ]
    },
    {
      "metadata": {
        "id": "-5MYv5ZG5GFg",
        "colab_type": "code",
        "colab": {}
      },
      "cell_type": "code",
      "source": [
        "keys = keyInOrder(palabrasTwitter, 15)"
      ],
      "execution_count": 0,
      "outputs": []
    },
    {
      "metadata": {
        "id": "EgT5pea95GFh",
        "colab_type": "code",
        "colab": {
          "base_uri": "https://localhost:8080/",
          "height": 381
        },
        "outputId": "cd015708-a449-4eb7-d57d-fe749eaf0d80"
      },
      "cell_type": "code",
      "source": [
        "plt.bar(keys.keys(), keys.values(), color='b')\n",
        "plt.title(\"Twitter\")"
      ],
      "execution_count": 0,
      "outputs": [
        {
          "output_type": "execute_result",
          "data": {
            "text/plain": [
              "Text(0.5,1,'Twitter')"
            ]
          },
          "metadata": {
            "tags": []
          },
          "execution_count": 57
        },
        {
          "output_type": "display_data",
          "data": {
            "image/png": "[encoded data removed]",
            "text/plain": [
              "<matplotlib.figure.Figure at 0x7efe1aaa0be0>"
            ]
          },
          "metadata": {
            "tags": []
          }
        }
      ]
    },
    {
      "metadata": {
        "id": "qDezP7M9dlyd",
        "colab_type": "text"
      },
      "cell_type": "markdown",
      "source": [
        "##N-Grams\n",
        "\n",
        "Los N-gramas se generan dividiendo el corpus de cada archivo en tokens, y se acoplan por N componentes.\n",
        "Por ejemplo se divie en bigrama \"n = 2\", se acopla por cada 2 palabras.\n",
        "\n",
        "Para este proceso se utilizara la libreria nltk con el apartado ngrams\n",
        "###ngrams(corpus.tokens, n)\n",
        "\n",
        "###Ejemplo:\n",
        "\n",
        "Corpus : \"I really like python, it's pretty awesome.\"\n",
        "\n",
        "n = 4\n",
        "\n",
        "output:\n",
        "\n",
        "['I', 'really', 'like', 'python,']\n",
        "\n",
        "['really', 'like', 'python,', \"it's\"]\n",
        "\n",
        "['like', 'python,', \"it's\", 'pretty']\n",
        "\n",
        "['python,', \"it's\", 'pretty', 'awesome.']\n",
        "\n"
      ]
    },
    {
      "metadata": {
        "id": "pxVEDL_r6D4S",
        "colab_type": "code",
        "colab": {}
      },
      "cell_type": "code",
      "source": [
        "def Ngram(n, text, printing):\n",
        "  limiter = 0\n",
        "  nGram = ngrams(text.split(), n)\n",
        "  if (printing):\n",
        "    for grams in nGram:\n",
        "      if (limiter > 50):\n",
        "         break\n",
        "      print (grams)    \n",
        "      limiter += 1\n",
        "  return nGram\n",
        "  "
      ],
      "execution_count": 0,
      "outputs": []
    },
    {
      "metadata": {
        "id": "Yx-SnN-tdlyY",
        "colab_type": "code",
        "colab": {}
      },
      "cell_type": "code",
      "source": [
        "news = openF(\"news.txt\")\n",
        "blogs = openF(\"blogs.txt\")\n",
        "twitter = openF(\"twitter.txt\")"
      ],
      "execution_count": 0,
      "outputs": []
    },
    {
      "metadata": {
        "id": "7NHqLfmbqtWn",
        "colab_type": "code",
        "colab": {
          "base_uri": "https://localhost:8080/",
          "height": 1872
        },
        "outputId": "b869e2f0-73c7-4a11-c422-6429e05ff9e6"
      },
      "cell_type": "code",
      "source": [
        "biGramNews = Ngram(2, news, True)\n",
        "triGramNew = Ngram(3, news, True)"
      ],
      "execution_count": 0,
      "outputs": [
        {
          "output_type": "stream",
          "text": [
            "('[he', 'wasnt')\n",
            "('wasnt', 'home')\n",
            "('home', 'alone')\n",
            "('alone', 'apparently')\n",
            "('apparently', 'n')\n",
            "('n', 'st')\n",
            "('st', 'louis')\n",
            "('louis', 'plant')\n",
            "('plant', 'hadclose')\n",
            "('hadclose', 'it')\n",
            "('it', 'would')\n",
            "('would', 'dieold')\n",
            "('dieold', 'age')\n",
            "('age', 'workers')\n",
            "('workers', 'had')\n",
            "('had', 'been')\n",
            "('been', 'making')\n",
            "('making', 'cars')\n",
            "('cars', 'thereonsetmass')\n",
            "('thereonsetmass', 'automotive')\n",
            "('automotive', 'production1920s')\n",
            "('production1920s', 'n')\n",
            "('n', 'wsus')\n",
            "('wsus', 'plans')\n",
            "('plans', 'quickly')\n",
            "('quickly', 'became')\n",
            "('became', 'hot')\n",
            "('hot', 'topiclocal')\n",
            "('topiclocal', 'online')\n",
            "('online', 'sites')\n",
            "('sites', 'though')\n",
            "('though', 'most')\n",
            "('most', 'people')\n",
            "('people', 'applauded')\n",
            "('applauded', 'plansnew')\n",
            "('plansnew', 'biomedical')\n",
            "('biomedical', 'center')\n",
            "('center', 'many')\n",
            "('many', 'deplored')\n",
            "('deplored', 'potential')\n",
            "('potential', 'lossbuilding')\n",
            "('lossbuilding', 'n')\n",
            "('n', 'alaimo')\n",
            "('alaimo', 'groupmount')\n",
            "('groupmount', 'holly')\n",
            "('holly', 'was')\n",
            "('was', 'upcontract')\n",
            "('upcontract', 'last')\n",
            "('last', 'fallevaluate')\n",
            "('fallevaluate', 'suggest')\n",
            "('suggest', 'improvementstrenton')\n",
            "('[he', 'wasnt', 'home')\n",
            "('wasnt', 'home', 'alone')\n",
            "('home', 'alone', 'apparently')\n",
            "('alone', 'apparently', 'n')\n",
            "('apparently', 'n', 'st')\n",
            "('n', 'st', 'louis')\n",
            "('st', 'louis', 'plant')\n",
            "('louis', 'plant', 'hadclose')\n",
            "('plant', 'hadclose', 'it')\n",
            "('hadclose', 'it', 'would')\n",
            "('it', 'would', 'dieold')\n",
            "('would', 'dieold', 'age')\n",
            "('dieold', 'age', 'workers')\n",
            "('age', 'workers', 'had')\n",
            "('workers', 'had', 'been')\n",
            "('had', 'been', 'making')\n",
            "('been', 'making', 'cars')\n",
            "('making', 'cars', 'thereonsetmass')\n",
            "('cars', 'thereonsetmass', 'automotive')\n",
            "('thereonsetmass', 'automotive', 'production1920s')\n",
            "('automotive', 'production1920s', 'n')\n",
            "('production1920s', 'n', 'wsus')\n",
            "('n', 'wsus', 'plans')\n",
            "('wsus', 'plans', 'quickly')\n",
            "('plans', 'quickly', 'became')\n",
            "('quickly', 'became', 'hot')\n",
            "('became', 'hot', 'topiclocal')\n",
            "('hot', 'topiclocal', 'online')\n",
            "('topiclocal', 'online', 'sites')\n",
            "('online', 'sites', 'though')\n",
            "('sites', 'though', 'most')\n",
            "('though', 'most', 'people')\n",
            "('most', 'people', 'applauded')\n",
            "('people', 'applauded', 'plansnew')\n",
            "('applauded', 'plansnew', 'biomedical')\n",
            "('plansnew', 'biomedical', 'center')\n",
            "('biomedical', 'center', 'many')\n",
            "('center', 'many', 'deplored')\n",
            "('many', 'deplored', 'potential')\n",
            "('deplored', 'potential', 'lossbuilding')\n",
            "('potential', 'lossbuilding', 'n')\n",
            "('lossbuilding', 'n', 'alaimo')\n",
            "('n', 'alaimo', 'groupmount')\n",
            "('alaimo', 'groupmount', 'holly')\n",
            "('groupmount', 'holly', 'was')\n",
            "('holly', 'was', 'upcontract')\n",
            "('was', 'upcontract', 'last')\n",
            "('upcontract', 'last', 'fallevaluate')\n",
            "('last', 'fallevaluate', 'suggest')\n",
            "('fallevaluate', 'suggest', 'improvementstrenton')\n",
            "('suggest', 'improvementstrenton', 'water')\n"
          ],
          "name": "stdout"
        }
      ]
    },
    {
      "metadata": {
        "id": "g-qwz3QkuYJd",
        "colab_type": "code",
        "colab": {
          "base_uri": "https://localhost:8080/",
          "height": 1872
        },
        "outputId": "593caef2-3412-41ba-e007-350c76d8e0ce"
      },
      "cell_type": "code",
      "source": [
        "biGramblogs = Ngram(2, blogs, True)\n",
        "triGramBlogs = Ngram(3, blogs, True)"
      ],
      "execution_count": 0,
      "outputs": [
        {
          "output_type": "stream",
          "text": [
            "('[in', 'years')\n",
            "('years', 'thereafter')\n",
            "('thereafter', 'mostoil')\n",
            "('mostoil', 'fields')\n",
            "('fields', 'platforms')\n",
            "('platforms', 'were')\n",
            "('were', 'namedpagan')\n",
            "('namedpagan', '“gods”')\n",
            "('“gods”', 'n')\n",
            "('n', 'we')\n",
            "('we', 'love')\n",
            "('love', 'you')\n",
            "('you', 'mr')\n",
            "('mr', 'brown')\n",
            "('brown', 'n')\n",
            "('n', 'chad')\n",
            "('chad', 'has')\n",
            "('has', 'been')\n",
            "('been', 'awesomekids')\n",
            "('awesomekids', 'holdingfort')\n",
            "('holdingfort', 'while')\n",
            "('while', 'i')\n",
            "('i', 'work')\n",
            "('work', 'laterusual!')\n",
            "('laterusual!', 'kids')\n",
            "('kids', 'have')\n",
            "('have', 'been')\n",
            "('been', 'busy')\n",
            "('busy', 'together')\n",
            "('together', 'playing')\n",
            "('playing', 'skylanderxbox')\n",
            "('skylanderxbox', 'together')\n",
            "('together', 'kyan')\n",
            "('kyan', 'cashedhis')\n",
            "('cashedhis', '$$$his')\n",
            "('$$$his', 'piggy')\n",
            "('piggy', 'bank')\n",
            "('bank', 'he')\n",
            "('he', 'wanted')\n",
            "('wanted', 'that')\n",
            "('that', 'game')\n",
            "('game', 'so')\n",
            "('so', 'bad')\n",
            "('bad', 'used')\n",
            "('used', 'his')\n",
            "('his', 'gift')\n",
            "('gift', 'cardhis')\n",
            "('cardhis', 'birthday')\n",
            "('birthday', 'he')\n",
            "('he', 'has')\n",
            "('has', 'been')\n",
            "('[in', 'years', 'thereafter')\n",
            "('years', 'thereafter', 'mostoil')\n",
            "('thereafter', 'mostoil', 'fields')\n",
            "('mostoil', 'fields', 'platforms')\n",
            "('fields', 'platforms', 'were')\n",
            "('platforms', 'were', 'namedpagan')\n",
            "('were', 'namedpagan', '“gods”')\n",
            "('namedpagan', '“gods”', 'n')\n",
            "('“gods”', 'n', 'we')\n",
            "('n', 'we', 'love')\n",
            "('we', 'love', 'you')\n",
            "('love', 'you', 'mr')\n",
            "('you', 'mr', 'brown')\n",
            "('mr', 'brown', 'n')\n",
            "('brown', 'n', 'chad')\n",
            "('n', 'chad', 'has')\n",
            "('chad', 'has', 'been')\n",
            "('has', 'been', 'awesomekids')\n",
            "('been', 'awesomekids', 'holdingfort')\n",
            "('awesomekids', 'holdingfort', 'while')\n",
            "('holdingfort', 'while', 'i')\n",
            "('while', 'i', 'work')\n",
            "('i', 'work', 'laterusual!')\n",
            "('work', 'laterusual!', 'kids')\n",
            "('laterusual!', 'kids', 'have')\n",
            "('kids', 'have', 'been')\n",
            "('have', 'been', 'busy')\n",
            "('been', 'busy', 'together')\n",
            "('busy', 'together', 'playing')\n",
            "('together', 'playing', 'skylanderxbox')\n",
            "('playing', 'skylanderxbox', 'together')\n",
            "('skylanderxbox', 'together', 'kyan')\n",
            "('together', 'kyan', 'cashedhis')\n",
            "('kyan', 'cashedhis', '$$$his')\n",
            "('cashedhis', '$$$his', 'piggy')\n",
            "('$$$his', 'piggy', 'bank')\n",
            "('piggy', 'bank', 'he')\n",
            "('bank', 'he', 'wanted')\n",
            "('he', 'wanted', 'that')\n",
            "('wanted', 'that', 'game')\n",
            "('that', 'game', 'so')\n",
            "('game', 'so', 'bad')\n",
            "('so', 'bad', 'used')\n",
            "('bad', 'used', 'his')\n",
            "('used', 'his', 'gift')\n",
            "('his', 'gift', 'cardhis')\n",
            "('gift', 'cardhis', 'birthday')\n",
            "('cardhis', 'birthday', 'he')\n",
            "('birthday', 'he', 'has')\n",
            "('he', 'has', 'been')\n",
            "('has', 'been', 'saving')\n"
          ],
          "name": "stdout"
        }
      ]
    },
    {
      "metadata": {
        "id": "z9sz4-zEubOW",
        "colab_type": "code",
        "colab": {
          "base_uri": "https://localhost:8080/",
          "height": 1872
        },
        "outputId": "c72862aa-6159-4550-ecfe-c37c68eb15fa"
      },
      "cell_type": "code",
      "source": [
        "biGramTwitter = Ngram(2, twitter, True)\n",
        "triGramTwitter = Ngram(3, twitter, True)"
      ],
      "execution_count": 0,
      "outputs": [
        {
          "output_type": "stream",
          "text": [
            "('[how', 'are')\n",
            "('are', 'you?')\n",
            "('you?', 'btw')\n",
            "('btw', 'thanksrt')\n",
            "('thanksrt', 'you')\n",
            "('you', 'gonna')\n",
            "('gonna', 'bedc')\n",
            "('bedc', 'anytime')\n",
            "('anytime', 'soon?')\n",
            "('soon?', 'lovesee')\n",
            "('lovesee', 'you')\n",
            "('you', 'been')\n",
            "('been', 'way')\n",
            "('way', 'way')\n",
            "('way', 'too')\n",
            "('too', 'long')\n",
            "('long', 'n')\n",
            "('n', 'when')\n",
            "('when', 'you')\n",
            "('you', 'meet')\n",
            "('meet', 'someone')\n",
            "('someone', 'special')\n",
            "('special', 'youll')\n",
            "('youll', 'know')\n",
            "('know', 'your')\n",
            "('your', 'heart')\n",
            "('heart', 'will')\n",
            "('will', 'beat')\n",
            "('beat', 'more')\n",
            "('more', 'rapidly')\n",
            "('rapidly', 'youll')\n",
            "('youll', 'smileno')\n",
            "('smileno', 'reason')\n",
            "('reason', 'n')\n",
            "('n', 'theyve')\n",
            "('theyve', 'decided')\n",
            "('decided', 'its')\n",
            "('its', 'more')\n",
            "('more', 'fun')\n",
            "('fun', 'if')\n",
            "('if', 'i')\n",
            "('i', 'dont')\n",
            "('dont', 'n')\n",
            "('n', 'so')\n",
            "('so', 'tired')\n",
            "('tired', 'd;')\n",
            "('d;', 'played')\n",
            "('played', 'lazer')\n",
            "('lazer', 'tag')\n",
            "('tag', 'ran')\n",
            "('ran', 'lot')\n",
            "('[how', 'are', 'you?')\n",
            "('are', 'you?', 'btw')\n",
            "('you?', 'btw', 'thanksrt')\n",
            "('btw', 'thanksrt', 'you')\n",
            "('thanksrt', 'you', 'gonna')\n",
            "('you', 'gonna', 'bedc')\n",
            "('gonna', 'bedc', 'anytime')\n",
            "('bedc', 'anytime', 'soon?')\n",
            "('anytime', 'soon?', 'lovesee')\n",
            "('soon?', 'lovesee', 'you')\n",
            "('lovesee', 'you', 'been')\n",
            "('you', 'been', 'way')\n",
            "('been', 'way', 'way')\n",
            "('way', 'way', 'too')\n",
            "('way', 'too', 'long')\n",
            "('too', 'long', 'n')\n",
            "('long', 'n', 'when')\n",
            "('n', 'when', 'you')\n",
            "('when', 'you', 'meet')\n",
            "('you', 'meet', 'someone')\n",
            "('meet', 'someone', 'special')\n",
            "('someone', 'special', 'youll')\n",
            "('special', 'youll', 'know')\n",
            "('youll', 'know', 'your')\n",
            "('know', 'your', 'heart')\n",
            "('your', 'heart', 'will')\n",
            "('heart', 'will', 'beat')\n",
            "('will', 'beat', 'more')\n",
            "('beat', 'more', 'rapidly')\n",
            "('more', 'rapidly', 'youll')\n",
            "('rapidly', 'youll', 'smileno')\n",
            "('youll', 'smileno', 'reason')\n",
            "('smileno', 'reason', 'n')\n",
            "('reason', 'n', 'theyve')\n",
            "('n', 'theyve', 'decided')\n",
            "('theyve', 'decided', 'its')\n",
            "('decided', 'its', 'more')\n",
            "('its', 'more', 'fun')\n",
            "('more', 'fun', 'if')\n",
            "('fun', 'if', 'i')\n",
            "('if', 'i', 'dont')\n",
            "('i', 'dont', 'n')\n",
            "('dont', 'n', 'so')\n",
            "('n', 'so', 'tired')\n",
            "('so', 'tired', 'd;')\n",
            "('tired', 'd;', 'played')\n",
            "('d;', 'played', 'lazer')\n",
            "('played', 'lazer', 'tag')\n",
            "('lazer', 'tag', 'ran')\n",
            "('tag', 'ran', 'lot')\n",
            "('ran', 'lot', 'd;')\n"
          ],
          "name": "stdout"
        }
      ]
    },
    {
      "metadata": {
        "id": "rJ39yGtBeQyd",
        "colab_type": "text"
      },
      "cell_type": "markdown",
      "source": [
        "##Matrices de términos para cada palabra\n",
        "\n",
        "En este apartado demostramos la frecuencia de cada anagrama, y asi poder sacar la probabilidad de cada anagrama resultado dado las probabilidades de ***palabra1*** dado ***palabra2***"
      ]
    },
    {
      "metadata": {
        "id": "TrBjDl90eS7V",
        "colab_type": "code",
        "colab": {}
      },
      "cell_type": "code",
      "source": [
        "def tMatrix(nGram, printiing):\n",
        "  fdist = nltk.FreqDist(nGram)\n",
        "  limiter = 0\n",
        "  for k, v in fdist.items():\n",
        "    print (k,v)\n",
        "    limiter += 1\n",
        "    if (limiter > 50):\n",
        "      break\n",
        "#   return fdist;\n"
      ],
      "execution_count": 0,
      "outputs": []
    },
    {
      "metadata": {
        "id": "SbLvhWd5EZOs",
        "colab_type": "code",
        "colab": {
          "base_uri": "https://localhost:8080/",
          "height": 945
        },
        "outputId": "5168cc78-c143-48ee-9a49-735e30604fed"
      },
      "cell_type": "code",
      "source": [
        "tMatrix(biGramNews)"
      ],
      "execution_count": 0,
      "outputs": [
        {
          "output_type": "stream",
          "text": [
            "('water', 'works') 2\n",
            "('works', 'campaign') 2\n",
            "('campaign', 'finance') 18\n",
            "('finance', 'records') 4\n",
            "('records', 'released') 2\n",
            "('released', 'this') 4\n",
            "('this', 'week') 158\n",
            "('week', 'show') 4\n",
            "('show', 'two') 5\n",
            "('two', 'employees') 2\n",
            "('employees', 'donated') 2\n",
            "('donated', 'total$4') 2\n",
            "('total$4', '500political') 2\n",
            "('500political', 'action') 2\n",
            "('action', 'committee') 14\n",
            "('committee', '(pac)') 2\n",
            "('(pac)', 'partnersprogressearly') 2\n",
            "('partnersprogressearly', 'june') 2\n",
            "('june', 'partnersprogress') 2\n",
            "('partnersprogress', 'reported') 2\n",
            "('reported', 'it') 4\n",
            "('it', 'gave') 6\n",
            "('gave', 'more$10') 2\n",
            "('more$10', '000both') 2\n",
            "('000both', 'direct') 2\n",
            "('direct', 'in-kind') 2\n",
            "('in-kind', 'contributionsmayor') 2\n",
            "('contributionsmayor', 'tony') 2\n",
            "('tony', 'macktwo') 2\n",
            "('macktwo', 'weeks') 2\n",
            "('weeks', 'leading') 2\n",
            "('leading', 'uphis') 2\n",
            "('uphis', 'victorymayoral') 2\n",
            "('victorymayoral', 'runoff') 2\n",
            "('runoff', 'election') 4\n",
            "('election', 'june') 2\n",
            "('june', '15') 4\n",
            "('15', 'n') 25\n",
            "('n', 'when') 402\n",
            "('when', 'its') 15\n",
            "('its', 'often') 6\n",
            "('often', 'difficultpredict') 2\n",
            "('difficultpredict', 'laws') 2\n",
            "('laws', 'impact') 2\n",
            "('impact', 'legislators') 2\n",
            "('legislators', 'should') 2\n",
            "('should', 'think') 1\n",
            "('think', 'twicecarrying') 2\n",
            "('twicecarrying', 'any') 1\n",
            "('any', 'bill') 1\n",
            "('bill', 'is') 22\n"
          ],
          "name": "stdout"
        }
      ]
    },
    {
      "metadata": {
        "id": "-jowkgtBRCzV",
        "colab_type": "code",
        "colab": {
          "base_uri": "https://localhost:8080/",
          "height": 945
        },
        "outputId": "390fc211-499d-46fb-f464-df9d77a34f4d"
      },
      "cell_type": "code",
      "source": [
        "tMatrix(triGramNew)"
      ],
      "execution_count": 0,
      "outputs": [
        {
          "output_type": "stream",
          "text": [
            "('water', 'works', 'campaign') 2\n",
            "('works', 'campaign', 'finance') 2\n",
            "('campaign', 'finance', 'records') 4\n",
            "('finance', 'records', 'released') 2\n",
            "('records', 'released', 'this') 1\n",
            "('released', 'this', 'week') 1\n",
            "('this', 'week', 'show') 1\n",
            "('week', 'show', 'two') 2\n",
            "('show', 'two', 'employees') 2\n",
            "('two', 'employees', 'donated') 2\n",
            "('employees', 'donated', 'total$4') 2\n",
            "('donated', 'total$4', '500political') 2\n",
            "('total$4', '500political', 'action') 2\n",
            "('500political', 'action', 'committee') 2\n",
            "('action', 'committee', '(pac)') 2\n",
            "('committee', '(pac)', 'partnersprogressearly') 2\n",
            "('(pac)', 'partnersprogressearly', 'june') 2\n",
            "('partnersprogressearly', 'june', 'partnersprogress') 2\n",
            "('june', 'partnersprogress', 'reported') 2\n",
            "('partnersprogress', 'reported', 'it') 1\n",
            "('reported', 'it', 'gave') 1\n",
            "('it', 'gave', 'more$10') 1\n",
            "('gave', 'more$10', '000both') 2\n",
            "('more$10', '000both', 'direct') 2\n",
            "('000both', 'direct', 'in-kind') 2\n",
            "('direct', 'in-kind', 'contributionsmayor') 2\n",
            "('in-kind', 'contributionsmayor', 'tony') 2\n",
            "('contributionsmayor', 'tony', 'macktwo') 2\n",
            "('tony', 'macktwo', 'weeks') 2\n",
            "('macktwo', 'weeks', 'leading') 2\n",
            "('weeks', 'leading', 'uphis') 2\n",
            "('leading', 'uphis', 'victorymayoral') 2\n",
            "('uphis', 'victorymayoral', 'runoff') 2\n",
            "('victorymayoral', 'runoff', 'election') 2\n",
            "('runoff', 'election', 'june') 2\n",
            "('election', 'june', '15') 2\n",
            "('june', '15', 'n') 2\n",
            "('15', 'n', 'when') 1\n",
            "('n', 'when', 'its') 3\n",
            "('when', 'its', 'often') 1\n",
            "('its', 'often', 'difficultpredict') 1\n",
            "('often', 'difficultpredict', 'laws') 2\n",
            "('difficultpredict', 'laws', 'impact') 2\n",
            "('laws', 'impact', 'legislators') 2\n",
            "('impact', 'legislators', 'should') 1\n",
            "('legislators', 'should', 'think') 1\n",
            "('should', 'think', 'twicecarrying') 1\n",
            "('think', 'twicecarrying', 'any') 1\n",
            "('twicecarrying', 'any', 'bill') 1\n",
            "('any', 'bill', 'is') 1\n",
            "('bill', 'is', 'it') 1\n"
          ],
          "name": "stdout"
        }
      ]
    },
    {
      "metadata": {
        "id": "Wm_4ju1eRC9j",
        "colab_type": "code",
        "colab": {
          "base_uri": "https://localhost:8080/",
          "height": 945
        },
        "outputId": "2cbcbec1-5960-4379-8f1d-95b56bed9e54"
      },
      "cell_type": "code",
      "source": [
        "tMatrix(biGramblogs)"
      ],
      "execution_count": 0,
      "outputs": [
        {
          "output_type": "stream",
          "text": [
            "('saving', 'moneyget') 2\n",
            "('moneyget', 'it') 1\n",
            "('it', '(he') 1\n",
            "('(he', 'never') 2\n",
            "('never', 'tapsthat') 2\n",
            "('tapsthat', 'thing') 2\n",
            "('thing', 'either') 2\n",
            "('either', 'that') 11\n",
            "('that', 'is') 764\n",
            "('is', 'how') 96\n",
            "('how', 'we') 42\n",
            "('we', 'know') 103\n",
            "('know', 'he') 22\n",
            "('he', 'wanted') 20\n",
            "('wanted', 'it') 11\n",
            "('it', 'so') 100\n",
            "('so', 'bad)') 4\n",
            "('bad)', 'we') 1\n",
            "('we', 'made') 44\n",
            "('made', 'him') 15\n",
            "('him', 'count') 1\n",
            "('count', 'allhis') 2\n",
            "('allhis', 'moneymake') 2\n",
            "('moneymake', 'sure') 2\n",
            "('sure', 'that') 93\n",
            "('that', 'he') 527\n",
            "('he', 'had') 243\n",
            "('had', 'enough!') 2\n",
            "('enough!', 'it') 2\n",
            "('it', 'was') 1955\n",
            "('was', 'very') 170\n",
            "('very', 'cutewatch') 1\n",
            "('cutewatch', 'his') 1\n",
            "('his', 'reaction') 2\n",
            "('reaction', 'when') 1\n",
            "('when', 'he') 255\n",
            "('he', 'realized') 3\n",
            "('realized', 'he') 4\n",
            "('he', 'did!') 1\n",
            "('did!', 'he') 2\n",
            "('he', 'also') 67\n",
            "('also', 'does') 3\n",
            "('does', 'very') 1\n",
            "('very', 'good') 60\n",
            "('good', 'jobletting') 2\n",
            "('jobletting', 'lola') 2\n",
            "('lola', 'feelshe') 2\n",
            "('feelshe', 'is') 2\n",
            "('is', 'playing') 6\n",
            "('playing', 'too') 1\n",
            "('too', 'letting') 1\n"
          ],
          "name": "stdout"
        }
      ]
    },
    {
      "metadata": {
        "id": "FfKpzAy_RKUj",
        "colab_type": "code",
        "colab": {
          "base_uri": "https://localhost:8080/",
          "height": 945
        },
        "outputId": "966466d6-ecb6-40cf-fa89-9c5b26626db3"
      },
      "cell_type": "code",
      "source": [
        "tMatrix(triGramBlogs)"
      ],
      "execution_count": 0,
      "outputs": [
        {
          "output_type": "stream",
          "text": [
            "('saving', 'moneyget', 'it') 1\n",
            "('moneyget', 'it', '(he') 1\n",
            "('it', '(he', 'never') 1\n",
            "('(he', 'never', 'tapsthat') 2\n",
            "('never', 'tapsthat', 'thing') 2\n",
            "('tapsthat', 'thing', 'either') 2\n",
            "('thing', 'either', 'that') 1\n",
            "('either', 'that', 'is') 1\n",
            "('that', 'is', 'how') 12\n",
            "('is', 'how', 'we') 4\n",
            "('how', 'we', 'know') 1\n",
            "('we', 'know', 'he') 2\n",
            "('know', 'he', 'wanted') 1\n",
            "('he', 'wanted', 'it') 2\n",
            "('wanted', 'it', 'so') 1\n",
            "('it', 'so', 'bad)') 1\n",
            "('so', 'bad)', 'we') 1\n",
            "('bad)', 'we', 'made') 1\n",
            "('we', 'made', 'him') 1\n",
            "('made', 'him', 'count') 1\n",
            "('him', 'count', 'allhis') 1\n",
            "('count', 'allhis', 'moneymake') 2\n",
            "('allhis', 'moneymake', 'sure') 2\n",
            "('moneymake', 'sure', 'that') 1\n",
            "('sure', 'that', 'he') 1\n",
            "('that', 'he', 'had') 45\n",
            "('he', 'had', 'enough!') 1\n",
            "('had', 'enough!', 'it') 2\n",
            "('enough!', 'it', 'was') 1\n",
            "('it', 'was', 'very') 38\n",
            "('was', 'very', 'cutewatch') 1\n",
            "('very', 'cutewatch', 'his') 1\n",
            "('cutewatch', 'his', 'reaction') 1\n",
            "('his', 'reaction', 'when') 1\n",
            "('reaction', 'when', 'he') 1\n",
            "('when', 'he', 'realized') 2\n",
            "('he', 'realized', 'he') 1\n",
            "('realized', 'he', 'did!') 1\n",
            "('he', 'did!', 'he') 1\n",
            "('did!', 'he', 'also') 1\n",
            "('he', 'also', 'does') 2\n",
            "('also', 'does', 'very') 1\n",
            "('does', 'very', 'good') 1\n",
            "('very', 'good', 'jobletting') 1\n",
            "('good', 'jobletting', 'lola') 2\n",
            "('jobletting', 'lola', 'feelshe') 2\n",
            "('lola', 'feelshe', 'is') 1\n",
            "('feelshe', 'is', 'playing') 1\n",
            "('is', 'playing', 'too') 1\n",
            "('playing', 'too', 'letting') 1\n",
            "('too', 'letting', 'her') 1\n"
          ],
          "name": "stdout"
        }
      ]
    },
    {
      "metadata": {
        "id": "-x_sAOEJRKbb",
        "colab_type": "code",
        "colab": {
          "base_uri": "https://localhost:8080/",
          "height": 945
        },
        "outputId": "8981d090-8c08-4bdd-914d-b8372fee6c48"
      },
      "cell_type": "code",
      "source": [
        "tMatrix(biGramTwitter)"
      ],
      "execution_count": 0,
      "outputs": [
        {
          "output_type": "stream",
          "text": [
            "('d;', 'ughh') 2\n",
            "('ughh', 'goingsleep') 2\n",
            "('goingsleep', 'like5') 2\n",
            "('like5', 'minutes') 2\n",
            "('minutes', ';)') 2\n",
            "(';)', 'n') 1311\n",
            "('n', 'wordscomplete') 2\n",
            "('wordscomplete', 'stranger!') 2\n",
            "('stranger!', 'made') 2\n",
            "('made', 'my') 81\n",
            "('my', 'birthday') 58\n",
            "('birthday', 'even') 2\n",
            "('even', 'better') 63\n",
            "('better', ':)') 28\n",
            "(':)', 'n') 6149\n",
            "('n', 'first') 430\n",
            "('first', 'cubs') 2\n",
            "('cubs', 'game') 2\n",
            "('game', 'ever!') 2\n",
            "('ever!', 'wrigley') 2\n",
            "('wrigley', 'field') 6\n",
            "('field', 'is') 4\n",
            "('is', 'gorgeous') 6\n",
            "('gorgeous', 'this') 1\n",
            "('this', 'is') 695\n",
            "('is', 'perfect') 29\n",
            "('perfect', 'go') 2\n",
            "('go', 'cubs') 8\n",
            "('cubs', 'go!') 6\n",
            "('go!', 'n') 157\n",
            "('n', 'i') 10186\n",
            "('i', 'no!') 1\n",
            "('no!', 'i') 10\n",
            "('i', 'get') 353\n",
            "('get', 'another') 26\n",
            "('another', 'day') 51\n",
            "('day', 'offskool') 2\n",
            "('offskool', 'duewonderful') 2\n",
            "('duewonderful', 'snow') 2\n",
            "('snow', '(:') 2\n",
            "('(:', 'this') 1\n",
            "('this', 'wakes') 1\n",
            "('wakes', 'me') 2\n",
            "('me', 'damn') 2\n",
            "('damn', 'thing') 10\n",
            "('thing', 'n') 218\n",
            "('n', 'im') 4182\n",
            "('im', 'coo') 2\n",
            "('coo', 'juswork') 2\n",
            "('juswork', 'hella') 2\n",
            "('hella', 'tired') 2\n"
          ],
          "name": "stdout"
        }
      ]
    },
    {
      "metadata": {
        "id": "7EByfppZRKeN",
        "colab_type": "code",
        "colab": {
          "base_uri": "https://localhost:8080/",
          "height": 945
        },
        "outputId": "96f2946d-f870-4dc8-db44-2bf554c693d4"
      },
      "cell_type": "code",
      "source": [
        "tMatrix(triGramTwitter)"
      ],
      "execution_count": 0,
      "outputs": [
        {
          "output_type": "stream",
          "text": [
            "('d;', 'ughh', 'goingsleep') 2\n",
            "('ughh', 'goingsleep', 'like5') 2\n",
            "('goingsleep', 'like5', 'minutes') 2\n",
            "('like5', 'minutes', ';)') 2\n",
            "('minutes', ';)', 'n') 2\n",
            "(';)', 'n', 'wordscomplete') 2\n",
            "('n', 'wordscomplete', 'stranger!') 2\n",
            "('wordscomplete', 'stranger!', 'made') 2\n",
            "('stranger!', 'made', 'my') 1\n",
            "('made', 'my', 'birthday') 1\n",
            "('my', 'birthday', 'even') 1\n",
            "('birthday', 'even', 'better') 2\n",
            "('even', 'better', ':)') 4\n",
            "('better', ':)', 'n') 24\n",
            "(':)', 'n', 'first') 12\n",
            "('n', 'first', 'cubs') 2\n",
            "('first', 'cubs', 'game') 2\n",
            "('cubs', 'game', 'ever!') 2\n",
            "('game', 'ever!', 'wrigley') 2\n",
            "('ever!', 'wrigley', 'field') 2\n",
            "('wrigley', 'field', 'is') 1\n",
            "('field', 'is', 'gorgeous') 1\n",
            "('is', 'gorgeous', 'this') 1\n",
            "('gorgeous', 'this', 'is') 1\n",
            "('this', 'is', 'perfect') 2\n",
            "('is', 'perfect', 'go') 1\n",
            "('perfect', 'go', 'cubs') 2\n",
            "('go', 'cubs', 'go!') 6\n",
            "('cubs', 'go!', 'n') 6\n",
            "('go!', 'n', 'i') 11\n",
            "('n', 'i', 'no!') 1\n",
            "('i', 'no!', 'i') 1\n",
            "('no!', 'i', 'get') 1\n",
            "('i', 'get', 'another') 2\n",
            "('get', 'another', 'day') 2\n",
            "('another', 'day', 'offskool') 2\n",
            "('day', 'offskool', 'duewonderful') 2\n",
            "('offskool', 'duewonderful', 'snow') 2\n",
            "('duewonderful', 'snow', '(:') 2\n",
            "('snow', '(:', 'this') 1\n",
            "('(:', 'this', 'wakes') 1\n",
            "('this', 'wakes', 'me') 1\n",
            "('wakes', 'me', 'damn') 1\n",
            "('me', 'damn', 'thing') 1\n",
            "('damn', 'thing', 'n') 6\n",
            "('thing', 'n', 'im') 6\n",
            "('n', 'im', 'coo') 2\n",
            "('im', 'coo', 'juswork') 2\n",
            "('coo', 'juswork', 'hella') 2\n",
            "('juswork', 'hella', 'tired') 2\n",
            "('hella', 'tired', 'r') 2\n"
          ],
          "name": "stdout"
        }
      ]
    },
    {
      "metadata": {
        "id": "Gc9PoW5deTMG",
        "colab_type": "text"
      },
      "cell_type": "markdown",
      "source": [
        " ## Probabilidad de ocurrencia de cada uno de los n-gramas"
      ]
    },
    {
      "metadata": {
        "id": "OdnuBCGBMWYG",
        "colab_type": "text"
      },
      "cell_type": "markdown",
      "source": [
        "## Algoritmo de Prediccion\n",
        "Se utilizo el algoritmo de KneserNey que recore los anagramas con el input dado para ver la frequencia de las palabras que aparecen despues del input y compara las frequencias para dar un porcentaje de probabilidad en la cual va a aparecer la siguiente palabra."
      ]
    },
    {
      "metadata": {
        "id": "c0X8kKYGVcJG",
        "colab_type": "text"
      },
      "cell_type": "markdown",
      "source": [
        "KneserNeyProbDist devuelve la probabilidad de la siguiente palabra dado  las palabras anteriores, como ejemplo se utilizaran bigramas.\n",
        "\n",
        "\n",
        "##Ejemplo\n",
        "\n",
        "Utilizando las palabras:\n",
        "###palabra 1: I\n",
        "###Palabra 2: confess\n",
        "\n",
        "\n",
        "(u'I', u'confess', u'.--'):0.00657894736842\n",
        "\n",
        "(u'I', u'confess', u'what'):0.00657894736842   \n",
        "\n",
        "(u'I', u'confess', u'myself'):0.00657894736842\n",
        "\n",
        "(u'I', u'confess', u'also'):0.00657894736842\n",
        "\n",
        "(u'I', u'confess', u'there'):0.00657894736842\n",
        "\n",
        "(u'I', u'confess', u',\"'):0.0328947368421\n",
        "\n",
        "(u'I', u'confess', u'that'):0.164473684211\n",
        "\n",
        "(u'I', u'confess', u'\"--'):0.00657894736842\n",
        "\n",
        "(u'I', u'confess', u'it'):0.0328947368421\n",
        "\n",
        "(u'I', u'confess', u';'):0.00657894736842\n",
        "\n",
        "(u'I', u'confess', u','):0.269736842105\n",
        "\n",
        "(u'I', u'confess', u'I'):0.164473684211\n",
        "\n",
        "(u'I', u'confess', u'unto'):0.00657894736842\n",
        "\n",
        "(u'I', u'confess', u'is'):0.00657894736842\n",
        "\n",
        "\n",
        "0.723684210526\n",
        "\n",
        "\n",
        "podemos identificar que la siguiente palabra sera \"**I**\" o el siguiente caracter sera \"**,**\""
      ]
    },
    {
      "metadata": {
        "id": "NM6wi5gTedgL",
        "colab_type": "code",
        "colab": {}
      },
      "cell_type": "code",
      "source": [
        "# Funcion que saca la probabilidad de la siguiente palabra de un bigrama\n",
        "def biKneserNey(nGram, palabra1, palabra2):\n",
        "  fdist = nltk.FreqDist(nGram)\n",
        "  kneser_ney = nltk.KneserNeyProbDist(fdist)\n",
        "  prob_sum = 0 \n",
        "  dicPalabras3 = {}\n",
        "  \n",
        "  for i in kneser_ney.samples():\n",
        "    \n",
        "    if i[0] == palabra1 and i[1] == palabra2:\n",
        "      dicPalabras3[i[2]] = kneser_ney.prob(i)\n",
        "#       print (\"{0}:{1}\".format(i, kneser_ney.prob(i)))\n",
        "  if (dicPalabras3 == {}):\n",
        "    return '[END] no mas iteraciones'\n",
        "  return sorted(dicPalabras3.items(), key=operator.itemgetter(1), reverse=True)[:1][0][0]\n"
      ],
      "execution_count": 0,
      "outputs": []
    },
    {
      "metadata": {
        "id": "Vaar_86lxTzn",
        "colab_type": "code",
        "colab": {}
      },
      "cell_type": "code",
      "source": [
        "# Funcion que saca la probabilidad de la siguiente palabra de un bigrama\n",
        "def biKneserNeyBackup(nGram, palabra1, palabra2):\n",
        "  fdist = nltk.FreqDist(nGram)\n",
        "  kneser_ney = nltk.KneserNeyProbDist(fdist)\n",
        "  prob_sum = 0 \n",
        "  limiter = 0\n",
        "  \n",
        "  for i in kneser_ney.samples():\n",
        "    if i[0] == palabra1 and i[1] == palabra2:\n",
        "      prob_sum += kneser_ney.prob(i)\n",
        "      print (\"{0}:{1}\".format(i, kneser_ney.prob(i)))\n",
        "    print (prob_sum)\n",
        "    limiter += 1\n",
        "    if (limiter > 50):\n",
        "      break\n",
        "#   return kneser_ney.max()"
      ],
      "execution_count": 0,
      "outputs": []
    },
    {
      "metadata": {
        "id": "nHoxaX3zUn_5",
        "colab_type": "code",
        "colab": {}
      },
      "cell_type": "code",
      "source": [
        "#funcion que saca la probabilidad de la siguiente palabra en un trigrama\n",
        "def triKneserNey(nGram, palabra1, palabra2, palabra3):\n",
        "  fdist = nltk.FreqDist(nGram)\n",
        "  kneser_ney = nltk.KneserNeyProbDist(fdist)\n",
        "\n",
        "  prob_sum = 0 \n",
        "  limiter = 0\n",
        "   \n",
        "  for i in kneser_ney.samples():\n",
        "    if [0] == palabra1 and i[1] == palabra2 and i[2] == palabra3:\n",
        "      prob_sum += kneser_ney.prob(i)\n",
        "      print (\"{0}:{1}:{2}\".format(i, kneser_ney.prob(i)))\n",
        "    print (prob_sum)\n",
        "    limiter += 1\n",
        "    if (limiter > 50):\n",
        "      break\n",
        "  return kneser_ney.max()"
      ],
      "execution_count": 0,
      "outputs": []
    },
    {
      "metadata": {
        "id": "1_gDFUdKej--",
        "colab_type": "text"
      },
      "cell_type": "markdown",
      "source": [
        "## Prediccion de 3 palabras siguientes"
      ]
    },
    {
      "metadata": {
        "id": "Amp2DTH-en1q",
        "colab_type": "code",
        "colab": {}
      },
      "cell_type": "code",
      "source": [
        "# se crean las funciones de prediccion para bigramaso trigramas, dependiendo la \n",
        "#cantidad de palabras que ingfrese el usuario\n",
        "\n",
        "def biprediccion(nGrama, palabra1, palabra2):\n",
        "  palabraTemp = biKneserNey(nGrama, palabra1, palabra2)\n",
        "  palabra1 = palabra2\n",
        "  palabra2 = str(palabraTemp)\n",
        "\n",
        "#  biprediccion(nGrama, )\n",
        "  print(\"La siguiente palabra es: \", palabra2)\n",
        "  #print (palabra1)\n",
        "  return palabra1, palabra2\n",
        "    \n",
        "def triPrediccion(palara1, palabra2, palabra3):\n",
        "  \n",
        "  triKneserNey(nGrama, palabra1, palabra2, palabra3)\n",
        "  palabra1 = palabra2\n",
        "  palabra2 = palabra3\n",
        "#   palabra3 = sigPalabraTri()\n",
        "    \n",
        "  print(\"La siguiente palabra es: \", palabra3)"
      ],
      "execution_count": 0,
      "outputs": []
    },
    {
      "metadata": {
        "id": "sT4Arl9Pvs0v",
        "colab_type": "code",
        "colab": {
          "base_uri": "https://localhost:8080/",
          "height": 72
        },
        "outputId": "e213894d-56ec-47c4-84e3-ab8daef15cbc"
      },
      "cell_type": "code",
      "source": [
        "def predicccionFinal(palabra1, palabra2):\n",
        "  for x in range(3):\n",
        "    triGramNew = Ngram(3, news, False)\n",
        "    palabra1, palabra2 = biprediccion(triGramNew, palabra1, palabra2)"
      ],
      "execution_count": 0,
      "outputs": [
        {
          "output_type": "stream",
          "text": [
            "La siguiente palabra es:  [END] no mas iteraciones\n",
            "La siguiente palabra es:  [END] no mas iteraciones\n",
            "La siguiente palabra es:  [END] no mas iteraciones\n"
          ],
          "name": "stdout"
        }
      ]
    },
    {
      "metadata": {
        "id": "w8C8ctYGLzDS",
        "colab_type": "text"
      },
      "cell_type": "markdown",
      "source": [
        "## Prediccion con Input\n",
        "En esta parte se puede ingresar dos palabras para que busque cuales sea las 3 palabra mas probable que va a salir despues de esas dos. Esto se logra agregando la palabra encontrada en el primer recorido y guardandolo como el nuevo input, asi el programa puede buscar la palabra despues de la encontrada"
      ]
    },
    {
      "metadata": {
        "id": "szAf0q5ODETU",
        "colab_type": "code",
        "colab": {
          "base_uri": "https://localhost:8080/",
          "height": 90
        },
        "outputId": "88658531-03ec-49e9-d181-f476d0a37a6a"
      },
      "cell_type": "code",
      "source": [
        "solucion = input(\"Ingrese dos palabras: \")\n",
        "print (' -- Working... ---')\n",
        "dospalabras = solucion.split(' ')\n",
        "predicccionFinal(dospalabras[0],dospalabras[1])\n"
      ],
      "execution_count": 0,
      "outputs": [
        {
          "output_type": "stream",
          "text": [
            "Ingrese dos palabras: home alone\n",
            "La siguiente palabra es:  apparently\n",
            "La siguiente palabra es:  n\n",
            "La siguiente palabra es:  st\n"
          ],
          "name": "stdout"
        }
      ]
    }
  ]
}